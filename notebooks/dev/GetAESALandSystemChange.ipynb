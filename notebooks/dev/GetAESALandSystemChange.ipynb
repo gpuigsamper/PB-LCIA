{
 "cells": [
  {
   "cell_type": "code",
   "execution_count": 1,
   "id": "547e02f9-e2c9-4fc1-8bb6-ea62ebc5c6e9",
   "metadata": {},
   "outputs": [],
   "source": [
    "import bw2io as bi\n",
    "import bw2data as bd\n",
    "import bw2calc as bc\n",
    "from functools import partial\n",
    "import os.path"
   ]
  },
  {
   "cell_type": "code",
   "execution_count": 2,
   "id": "c6dcdba8-e048-4bea-bd06-9997eca2a618",
   "metadata": {},
   "outputs": [
    {
     "data": {
      "text/plain": [
       "Brightway2 projects manager with 13 objects:\n",
       "\tStepByStep\n",
       "\tbw2_class_2020_example_database\n",
       "\tbw2_class_2020_intro\n",
       "\tcar comparison paper\n",
       "\tcheck_electricity_EES_paper\n",
       "\tcheck_impact_electricity\n",
       "\tdefault\n",
       "\tecoinvent 3.6\n",
       "\tglobal_power_mix\n",
       "\tparameters - manual creation\n",
       "\tpremise_scenarios\n",
       "\tsimapro-ecoinvent-import\n",
       "\ttrial-import_from_SimaPro\n",
       "Use `projects.report()` to get a report on all projects."
      ]
     },
     "execution_count": 2,
     "metadata": {},
     "output_type": "execute_result"
    }
   ],
   "source": [
    "bd.projects"
   ]
  },
  {
   "cell_type": "code",
   "execution_count": 3,
   "id": "270c1244-e1bc-460d-a307-855c7d60fcd3",
   "metadata": {},
   "outputs": [],
   "source": [
    "bd.projects.set_current(\"ecoinvent 3.6\")"
   ]
  },
  {
   "cell_type": "code",
   "execution_count": 4,
   "id": "647e604a-79fd-44cb-8c92-dc0d313d816a",
   "metadata": {},
   "outputs": [
    {
     "data": {
      "text/plain": [
       "Databases dictionary with 3 object(s):\n",
       "\tbiosphere3\n",
       "\tecoinvent 3.5\n",
       "\tecoinvent 3.6"
      ]
     },
     "execution_count": 4,
     "metadata": {},
     "output_type": "execute_result"
    }
   ],
   "source": [
    "bd.databases"
   ]
  },
  {
   "cell_type": "markdown",
   "id": "517527f0-89ab-417e-ab39-f656ca7d05f0",
   "metadata": {},
   "source": [
    "## import Land-system Chang method\n",
    " > Global"
   ]
  },
  {
   "cell_type": "code",
   "execution_count": 5,
   "id": "8de4ada6-aa52-4184-813a-9a3fe610776b",
   "metadata": {},
   "outputs": [],
   "source": [
    "\n",
    "method_category = \"LandSystemChange_Global\""
   ]
  },
  {
   "cell_type": "code",
   "execution_count": 6,
   "id": "666531d2-0227-4f2b-bd49-b12f49c67f29",
   "metadata": {},
   "outputs": [
    {
     "name": "stdout",
     "output_type": "stream",
     "text": [
      "Extracted 1 methods in 0.01 seconds\n"
     ]
    }
   ],
   "source": [
    "si = bi.SimaProLCIACSVImporter(\n",
    "    filepath=os.path.join(\n",
    "        r\"C:\\Users\\ViteksPC\\Documents\\00-ETH_projects\\AESAmethods\\from_simapro\"\n",
    "        f\"\\PBsLCIAv072_{method_category}.csv\"\n",
    "    )\n",
    ")"
   ]
  },
  {
   "cell_type": "code",
   "execution_count": 7,
   "id": "7eda1d0b-7ac1-4cfe-bb57-6a8ae92f9e4d",
   "metadata": {},
   "outputs": [],
   "source": [
    "# si.data[0].keys()"
   ]
  },
  {
   "cell_type": "code",
   "execution_count": 8,
   "id": "3743fa54-ea96-4a11-bd50-2b9b0c12e302",
   "metadata": {},
   "outputs": [
    {
     "name": "stdout",
     "output_type": "stream",
     "text": [
      "('PBs-LCIA (baseline)', 'Land-system change - Global') %\n"
     ]
    }
   ],
   "source": [
    "for method in si.data:\n",
    "    print(method[\"name\"], method[\"unit\"])"
   ]
  },
  {
   "cell_type": "code",
   "execution_count": 9,
   "id": "88f5680e-d5e1-45ff-b700-4f198e73dff0",
   "metadata": {},
   "outputs": [
    {
     "data": {
      "text/plain": [
       "{'amount': 1.56e-12,\n",
       " 'CAS number': '',\n",
       " 'categories': ('Raw', 'land'),\n",
       " 'name': 'Transformation, from forest',\n",
       " 'unit': 'm2'}"
      ]
     },
     "execution_count": 9,
     "metadata": {},
     "output_type": "execute_result"
    }
   ],
   "source": [
    "si.data[0][\"exchanges\"][0]#.keys()"
   ]
  },
  {
   "cell_type": "code",
   "execution_count": 11,
   "id": "f40ad041-6d1c-41c2-b8f2-efda74526fa1",
   "metadata": {},
   "outputs": [
    {
     "name": "stdout",
     "output_type": "stream",
     "text": [
      "Applying strategy: normalize_units\n",
      "Applying strategy: set_biosphere_type\n",
      "Applying strategy: normalize_simapro_biosphere_categories\n",
      "Applying strategy: normalize_simapro_biosphere_names\n",
      "Applying strategy: set_biosphere_type\n",
      "Applying strategy: drop_unspecified_subcategories\n",
      "Applying strategy: normalize_biosphere_categories\n",
      "Applying strategy: normalize_biosphere_names\n",
      "Applying strategy: link_iterable_by_fields\n",
      "Applying strategy: match_subcategories\n",
      "Applied 10 strategies in 0.37 seconds\n"
     ]
    }
   ],
   "source": [
    "si.apply_strategies()"
   ]
  },
  {
   "cell_type": "code",
   "execution_count": 12,
   "id": "d5c46886-2d36-4239-86cf-ff914920c48f",
   "metadata": {},
   "outputs": [
    {
     "name": "stdout",
     "output_type": "stream",
     "text": [
      "1 methods\n",
      "22 cfs\n",
      "22 unlinked cfs\n"
     ]
    },
    {
     "data": {
      "text/plain": [
       "(1, 22, 22)"
      ]
     },
     "execution_count": 12,
     "metadata": {},
     "output_type": "execute_result"
    }
   ],
   "source": [
    "si.statistics()"
   ]
  },
  {
   "cell_type": "code",
   "execution_count": 15,
   "id": "06191e76-1255-41cf-a466-ea8bc22130d3",
   "metadata": {},
   "outputs": [],
   "source": [
    "link_by_name_and_categories = partial(\n",
    "    bi.strategies.link_iterable_by_fields,\n",
    "    other=bd.Database(bd.config.biosphere),\n",
    "    kind=\"biosphere\",\n",
    "    fields=(\"name\", \"categories\"),\n",
    ")"
   ]
  },
  {
   "cell_type": "code",
   "execution_count": 16,
   "id": "563ecba5-b889-49ce-a8f6-117065cd2a7a",
   "metadata": {},
   "outputs": [
    {
     "name": "stdout",
     "output_type": "stream",
     "text": [
      "Applying strategy: link_iterable_by_fields\n",
      "1 methods\n",
      "22 cfs\n",
      "4 unlinked cfs\n"
     ]
    },
    {
     "data": {
      "text/plain": [
       "(1, 22, 4)"
      ]
     },
     "execution_count": 16,
     "metadata": {},
     "output_type": "execute_result"
    }
   ],
   "source": [
    "si.apply_strategy(link_by_name_and_categories)\n",
    "si.statistics()"
   ]
  },
  {
   "cell_type": "code",
   "execution_count": 13,
   "id": "c7f0d244-a4cd-4349-aa5b-0304f3e6af6c",
   "metadata": {},
   "outputs": [],
   "source": [
    "# list(si.unlinked)"
   ]
  },
  {
   "cell_type": "code",
   "execution_count": 17,
   "id": "3baefc3f-2904-43f7-9fa8-edf53210bd91",
   "metadata": {},
   "outputs": [
    {
     "data": {
      "text/plain": [
       "[('Transformation, from forest, natural', ('natural resource', 'land')),\n",
       " ('Transformation, from forest, secondary', ('natural resource', 'land')),\n",
       " ('Transformation, to forest, natural', ('natural resource', 'land')),\n",
       " ('Transformation, to forest, used', ('natural resource', 'land'))]"
      ]
     },
     "execution_count": 17,
     "metadata": {},
     "output_type": "execute_result"
    }
   ],
   "source": [
    "# from the 5 unlinked:\n",
    "# 1 has amount 0, can be dropped - Carbon dioxide, in air\n",
    "# 2 others \"Carbon dioxide\" and \"Carbon monoxide\" are not in biosphere3, BUT\n",
    "# \"Carbon dioxide, fossil\" \n",
    "# and \"Carbon monoxide, fossil\" and \"Carbon monoxide, non-fossil\" (with same CFs)\n",
    "# have been linked (see check_equivalent_linked)\n",
    "[(exc[\"name\"], exc[\"categories\"]) for exc in list(si.unlinked)]"
   ]
  },
  {
   "cell_type": "code",
   "execution_count": 18,
   "id": "ee30f2b9-c898-476b-9eb0-ea88779df974",
   "metadata": {},
   "outputs": [],
   "source": [
    "def see_unlinked(imported_methods):\n",
    "    unlinked_exc_names = [\n",
    "        exc_unlinked[\"name\"] for exc_unlinked in list(imported_methods.unlinked)\n",
    "    ]\n",
    "    for ix in range(len(imported_methods.data)):\n",
    "        print(imported_methods.data[ix][\"name\"][1])\n",
    "        for exc in imported_methods.data[ix][\"exchanges\"]:\n",
    "            if exc[\"name\"] in unlinked_exc_names:\n",
    "                print(\"\\t\",\n",
    "                    exc[\"name\"],\n",
    "                    exc[\"categories\"],\n",
    "                    exc[\"amount\"],\n",
    "                )\n",
    "        print(\"\\n\")\n",
    "        # if exc[\"amount\"] != 0"
   ]
  },
  {
   "cell_type": "code",
   "execution_count": 19,
   "id": "68462bb2-575f-409a-9e19-c6c01f8c36ff",
   "metadata": {},
   "outputs": [],
   "source": [
    "def check_equivalent_linked(imported_methods, list_names):\n",
    "    for ix in range(len(imported_methods.data)):\n",
    "        print(imported_methods.data[ix][\"name\"][1])\n",
    "        for exc in imported_methods.data[ix][\"exchanges\"]:\n",
    "            for x in list_names:\n",
    "                if x in exc[\"name\"]:\n",
    "                    print(\"\\t\",\n",
    "                        exc[\"name\"],\n",
    "                        exc[\"categories\"],\n",
    "                        exc[\"amount\"],\n",
    "                    )\n",
    "        print(\"\\n\")"
   ]
  },
  {
   "cell_type": "code",
   "execution_count": 20,
   "id": "34744a54-b0b8-4b57-a611-d30cfd2266a5",
   "metadata": {},
   "outputs": [],
   "source": [
    "def remove_duplicates_if_any(imported_methods):\n",
    "    for ix in range(len(imported_methods.data)):\n",
    "        current_exc = len(imported_methods.data[ix][\"exchanges\"])\n",
    "        wo_duplicates_exc = len(\n",
    "            {tuple(o[\"input\"]) for o in imported_methods.data[ix][\"exchanges\"]}\n",
    "        )\n",
    "        print(\n",
    "            imported_methods.data[ix][\"name\"][1], \": \", current_exc, wo_duplicates_exc,\n",
    "        )\n",
    "        if current_exc != wo_duplicates_exc:\n",
    "            unique_exchanges = {\n",
    "                tuple(o[\"input\"]): o for o in imported_methods.data[ix][\"exchanges\"]\n",
    "            }\n",
    "            imported_methods.data[ix][\"exchanges\"] = list(unique_exchanges.values())\n",
    "            print(\"Duplicates removed.\\n\")\n",
    "        else:\n",
    "            print(\"No duplicates.\\n\")"
   ]
  },
  {
   "cell_type": "code",
   "execution_count": 21,
   "id": "d362ae91-114b-4234-8608-2772e6ed4d00",
   "metadata": {},
   "outputs": [
    {
     "name": "stdout",
     "output_type": "stream",
     "text": [
      "Land-system change - Global\n",
      "\t Transformation, from forest, natural ('natural resource', 'land') 1.56e-12\n",
      "\t Transformation, from forest, secondary ('natural resource', 'land') 1.56e-12\n",
      "\t Transformation, to forest, natural ('natural resource', 'land') -1.56e-12\n",
      "\t Transformation, to forest, used ('natural resource', 'land') -1.56e-12\n",
      "\n",
      "\n"
     ]
    }
   ],
   "source": [
    "see_unlinked(si)"
   ]
  },
  {
   "cell_type": "code",
   "execution_count": 29,
   "id": "ca44f225-9239-4823-ab27-12432a78d24a",
   "metadata": {},
   "outputs": [
    {
     "data": {
      "text/plain": [
       "['Transformation, to forest, primary (non-use)' (square meter, None, ('natural resource', 'land')),\n",
       " 'Transformation, to forest, extensive' (square meter, None, ('natural resource', 'land')),\n",
       " 'Transformation, to forest, secondary (non-use)' (square meter, None, ('natural resource', 'land')),\n",
       " 'Transformation, to forest, unspecified' (square meter, None, ('natural resource', 'land')),\n",
       " 'Transformation, to forest, intensive' (square meter, None, ('natural resource', 'land'))]"
      ]
     },
     "execution_count": 29,
     "metadata": {},
     "output_type": "execute_result"
    }
   ],
   "source": [
    "b3 = bd.Database(\"biosphere3\")\n",
    "[\n",
    "    flow\n",
    "    for flow in b3\n",
    "    if \"transformation, to forest\" in flow[\"name\"].lower()\n",
    "]"
   ]
  },
  {
   "cell_type": "code",
   "execution_count": 30,
   "id": "ff492730-32f2-4020-a4af-3fc5e63c0d06",
   "metadata": {},
   "outputs": [
    {
     "name": "stdout",
     "output_type": "stream",
     "text": [
      "Land-system change - Global\n",
      "\t Transformation, to forest, extensive ('natural resource', 'land') -1.56e-12\n",
      "\t Transformation, to forest, intensive ('natural resource', 'land') -1.56e-12\n",
      "\t Transformation, to forest, intensive ('natural resource', 'land') -1.56e-12\n",
      "\t Transformation, to forest, intensive ('natural resource', 'land') -1.56e-12\n",
      "\t Transformation, to forest, intensive ('natural resource', 'land') -1.56e-12\n",
      "\t Transformation, to forest, natural ('natural resource', 'land') -1.56e-12\n",
      "\t Transformation, to forest, primary (non-use) ('natural resource', 'land') -1.56e-12\n",
      "\t Transformation, to forest, secondary (non-use) ('natural resource', 'land') -1.56e-12\n",
      "\t Transformation, to forest, unspecified ('natural resource', 'land') -1.56e-12\n",
      "\t Transformation, to forest, used ('natural resource', 'land') -1.56e-12\n",
      "\n",
      "\n"
     ]
    }
   ],
   "source": [
    "check_equivalent_linked(si, [\"Transformation, to forest\"])"
   ]
  },
  {
   "cell_type": "code",
   "execution_count": 31,
   "id": "8d048c1b-09ee-4946-8156-c9dbbb625f5b",
   "metadata": {},
   "outputs": [
    {
     "name": "stdout",
     "output_type": "stream",
     "text": [
      "Applying strategy: drop_unlinked_cfs\n",
      "Applied 1 strategies in 0.00 seconds\n",
      "1 methods\n",
      "18 cfs\n",
      "0 unlinked cfs\n"
     ]
    },
    {
     "data": {
      "text/plain": [
       "(1, 18, 0)"
      ]
     },
     "execution_count": 31,
     "metadata": {},
     "output_type": "execute_result"
    }
   ],
   "source": [
    "si.drop_unlinked()\n",
    "si.statistics()"
   ]
  },
  {
   "cell_type": "code",
   "execution_count": 32,
   "id": "7e89a8f7-b018-4322-b975-2e795b85ea1e",
   "metadata": {},
   "outputs": [
    {
     "name": "stdout",
     "output_type": "stream",
     "text": [
      "Land-system change - Global :  18 10\n",
      "Duplicates removed.\n",
      "\n"
     ]
    }
   ],
   "source": [
    "# check if there are duplicates (both numbers should be equal)\n",
    "remove_duplicates_if_any(si)"
   ]
  },
  {
   "cell_type": "code",
   "execution_count": 33,
   "id": "3d29373b-7b73-430b-9051-31df42489c4d",
   "metadata": {},
   "outputs": [
    {
     "name": "stdout",
     "output_type": "stream",
     "text": [
      "1 methods\n",
      "10 cfs\n",
      "0 unlinked cfs\n"
     ]
    },
    {
     "data": {
      "text/plain": [
       "(1, 10, 0)"
      ]
     },
     "execution_count": 33,
     "metadata": {},
     "output_type": "execute_result"
    }
   ],
   "source": [
    "si.statistics()"
   ]
  },
  {
   "cell_type": "code",
   "execution_count": 34,
   "id": "1b638595-b87b-43dc-8a34-98421b132d15",
   "metadata": {},
   "outputs": [
    {
     "name": "stdout",
     "output_type": "stream",
     "text": [
      "Wrote matching file to:\n",
      "C:\\Users\\ViteksPC\\AppData\\Local\\pylca\\Brightway3\\ecoinvent-36.d2073cbbe9aff3f7cc76c4f9a36d6789\\output\\lcia-matching-LandSystemChange_Global.xlsx\n"
     ]
    }
   ],
   "source": [
    "si.write_excel(method_category)"
   ]
  },
  {
   "cell_type": "code",
   "execution_count": 35,
   "id": "b159467e-cb47-4826-afb5-29bca8c534e2",
   "metadata": {},
   "outputs": [
    {
     "name": "stdout",
     "output_type": "stream",
     "text": [
      "C:\\Users\\ViteksPC\\Documents\\00-ETH_projects\\AESAmethods\\bw_methods\\aesa_LandSystemChange_Global.xlsx\n"
     ]
    }
   ],
   "source": [
    "PATH_TO_METHODS = os.path.join(\n",
    "    r\"C:\\Users\\ViteksPC\\Documents\\00-ETH_projects\\AESAmethods\\bw_methods\"\n",
    "    f\"\\\\aesa_{method_category}.xlsx\")\n",
    "print(PATH_TO_METHODS)"
   ]
  },
  {
   "cell_type": "code",
   "execution_count": 24,
   "id": "04886bd5-2198-435e-84ac-6c1799056803",
   "metadata": {},
   "outputs": [],
   "source": [
    "# Go to excel and apply manual corrections\n",
    "# store corrected excel to PATH_TO_METHODS"
   ]
  },
  {
   "cell_type": "code",
   "execution_count": 56,
   "id": "01ecbf59-d66b-43af-bb00-80d98c40f12a",
   "metadata": {},
   "outputs": [],
   "source": [
    "# [method for method in bd.methods if \"ReCiPe\" in str(method)]"
   ]
  },
  {
   "cell_type": "code",
   "execution_count": null,
   "id": "bf285ee5-07f2-42bf-9cae-b9b041f226fb",
   "metadata": {},
   "outputs": [],
   "source": []
  },
  {
   "cell_type": "code",
   "execution_count": 53,
   "id": "7411451f-384d-4579-bb9b-7e23cca28305",
   "metadata": {},
   "outputs": [
    {
     "data": {
      "text/plain": [
       "'ClimateChange_EnergyImbalance'"
      ]
     },
     "execution_count": 53,
     "metadata": {},
     "output_type": "execute_result"
    }
   ],
   "source": [
    "method_category"
   ]
  },
  {
   "cell_type": "code",
   "execution_count": 74,
   "id": "8f520d52-1f05-40e6-bcc6-26b0253e020d",
   "metadata": {},
   "outputs": [],
   "source": [
    "# TODO: complete categories\n",
    "# TODO: complete descriptions\n",
    "\n",
    "# name=\n",
    "# unit=\n",
    "# authors=\n",
    "# doi=\n",
    "# description=\n",
    "# filename=\n",
    "\n",
    "categories = {\n",
    "    (\n",
    "        (\"AESA (PBs-LCIA)\", \"climate change\", \"atmospheric CO2 concentration\"),\n",
    "        \"ppm\",\n",
    "        \"Ryberg, M. W., Owsianiak, M., Richardson, K., Hauschild, M. Z.\",\n",
    "        \"10.1016/j.ecolind.2017.12.065\",\n",
    "        \"description\",\n",
    "        \"aesa_ClimateChange_AtmosphericCO2Concentration.xlsx\",\n",
    "    ),\n",
    "    (\n",
    "        (\"AESA (PBs-LCIA)\", \"climate change\", \"energy imbalance at top-of-atmosphere\"),\n",
    "        \"Wm-2\",\n",
    "        \"Ryberg, M. W., Owsianiak, M., Richardson, K., Hauschild, M. Z.\",\n",
    "        \"10.1016/j.ecolind.2017.12.065\",\n",
    "        \"description\",\n",
    "        \"aesa_ClimateChange_EnergyImbalance.xlsx\",\n",
    "    ),\n",
    "    (\n",
    "        (\"AESA (PBs-LCIA)\", \"ozone depletion\", \"stratospheric O3 concentration\"),\n",
    "        \"Dobson unit\",\n",
    "        \"Ryberg, M. W., Owsianiak, M., Richardson, K., Hauschild, M. Z.\",\n",
    "        \"10.1016/j.ecolind.2017.12.065\",\n",
    "        \"description\",\n",
    "        \"aesa_OzoneDepletion_StratosphericO3Concentration.xlsx\",\n",
    "    ),\n",
    "    (\n",
    "        (\"AESA (PBs-LCIA)\", \"ocean acidification\", \"carbonate ion concentration\"),\n",
    "        \"omega aragonite\",\n",
    "        \"Ryberg, M. W., Owsianiak, M., Richardson, K., Hauschild, M. Z.\",\n",
    "        \"10.1016/j.ecolind.2017.12.065\",\n",
    "        \"description\",\n",
    "        \"aesa_OceanAcidification_CarbontateIonConcentration.xlsx\",\n",
    "    ),\n",
    "    (\n",
    "        (\"AESA (PBs-LCIA)\", \"biogeochemical flows\", \"nitrogen\"),\n",
    "        \"Tg N\",\n",
    "        \"Ryberg, M. W., Owsianiak, M., Richardson, K., Hauschild, M. Z.\",\n",
    "        \"10.1016/j.ecolind.2017.12.065\",\n",
    "        \"industrial and intentional biological fixation of N\",\n",
    "        \"aesa_BiogeochemicalFlow_N.xlsx\",\n",
    "    ),\n",
    "    (\n",
    "        (\"AESA (PBs-LCIA)\", \"biogeochemical flow\", \"phosphorus\"),\n",
    "        \"Tg P\",\n",
    "        \"Ryberg, M. W., Owsianiak, M., Richardson, K., Hauschild, M. Z.\",\n",
    "        \"10.1016/j.ecolind.2017.12.065\",\n",
    "        \"P flow from freshwater systems into the ocean\",\n",
    "        \"aesa_BiogeochemicalFlow_P.xlsx\",\n",
    "    ),\n",
    "}"
   ]
  },
  {
   "cell_type": "code",
   "execution_count": 59,
   "id": "998b1b24-cb0b-446f-8749-aa483caad9fd",
   "metadata": {},
   "outputs": [],
   "source": [
    "new = bi.ExcelLCIAImporter(\n",
    "    PATH_TO_METHODS,\n",
    "    # name=(\"AESA (PBs-LCIA)\", \"climate change\", \"energy imbalance at top-of-atmosphere\"),\n",
    "    name=(\"AESA (PBs-LCIA)\", \"climate change\", \"atmospheric CO2 concentration\"),\n",
    "    description=\"here will go the description\",\n",
    "    # unit=\"Wm-2\",\n",
    "    unit=\"ppm\",\n",
    "    authors=\"Ryberg, M. W., Owsianiak, M., Richardson, K., Hauschild, M. Z.\",\n",
    "    doi=\"10.1016/j.ecolind.2017.12.065\",\n",
    ")"
   ]
  },
  {
   "cell_type": "code",
   "execution_count": 60,
   "id": "0598f019-538c-4946-a954-29a627e6c218",
   "metadata": {},
   "outputs": [
    {
     "name": "stdout",
     "output_type": "stream",
     "text": [
      "Applying strategy: csv_restore_tuples\n",
      "Applying strategy: csv_numerize\n",
      "Applying strategy: csv_drop_unknown\n",
      "Applying strategy: set_biosphere_type\n",
      "Applying strategy: drop_unspecified_subcategories\n",
      "Applying strategy: link_iterable_by_fields\n",
      "Applying strategy: drop_falsey_uncertainty_fields_but_keep_zeros\n",
      "Applying strategy: convert_uncertainty_types_to_integers\n",
      "Applied 8 strategies in 0.16 seconds\n"
     ]
    }
   ],
   "source": [
    "new.apply_strategies()"
   ]
  },
  {
   "cell_type": "code",
   "execution_count": 61,
   "id": "4a6efc4a-f7e2-4058-b953-52e230d79f2f",
   "metadata": {},
   "outputs": [],
   "source": [
    "# excel can have empty lines\n",
    "def drop_empty_lines(data):\n",
    "    for method in data:\n",
    "        method['exchanges'] = [obj for obj in method['exchanges'] if obj['name']]\n",
    "    return data "
   ]
  },
  {
   "cell_type": "code",
   "execution_count": 62,
   "id": "05529d46-b02d-4006-a5bb-afd322b1416e",
   "metadata": {},
   "outputs": [
    {
     "name": "stdout",
     "output_type": "stream",
     "text": [
      "Applying strategy: drop_empty_lines\n"
     ]
    }
   ],
   "source": [
    "new.apply_strategy(drop_empty_lines)"
   ]
  },
  {
   "cell_type": "code",
   "execution_count": 63,
   "id": "c0af05d1-7848-4175-9e56-dc19437e1cca",
   "metadata": {},
   "outputs": [],
   "source": [
    "# new.data"
   ]
  },
  {
   "cell_type": "code",
   "execution_count": 64,
   "id": "05103611-1776-4fa9-889c-fcf9e0435b89",
   "metadata": {},
   "outputs": [
    {
     "name": "stdout",
     "output_type": "stream",
     "text": [
      "1 methods\n",
      "42 cfs\n",
      "0 unlinked cfs\n"
     ]
    },
    {
     "data": {
      "text/plain": [
       "(1, 42, 0)"
      ]
     },
     "execution_count": 64,
     "metadata": {},
     "output_type": "execute_result"
    }
   ],
   "source": [
    "new.statistics()"
   ]
  },
  {
   "cell_type": "code",
   "execution_count": 65,
   "id": "50c163cf-e978-4792-acb8-c96ae8a5f904",
   "metadata": {},
   "outputs": [],
   "source": [
    "assert len(list(new.unlinked)) == 0"
   ]
  },
  {
   "cell_type": "code",
   "execution_count": 296,
   "id": "0879d0c4-a48b-4d80-aaec-e95b63928c44",
   "metadata": {},
   "outputs": [
    {
     "name": "stdout",
     "output_type": "stream",
     "text": [
      "Wrote 1 LCIA methods with 42 characterization factors\n"
     ]
    }
   ],
   "source": [
    "new.write_methods(overwrite=True, verbose=True)"
   ]
  },
  {
   "cell_type": "code",
   "execution_count": 275,
   "id": "c312a4ea-0f40-4687-82cb-0fc99b5ce0d6",
   "metadata": {},
   "outputs": [
    {
     "data": {
      "text/plain": [
       "[('PBs-LCIA (baseline)', 'Climate change - CO2 concentration'),\n",
       " ('AESA', 'trial-CC_CO2concentration')]"
      ]
     },
     "execution_count": 275,
     "metadata": {},
     "output_type": "execute_result"
    }
   ],
   "source": [
    "[met for met in bd.methods if \"concentr\" in str(met).lower()]"
   ]
  },
  {
   "cell_type": "code",
   "execution_count": 277,
   "id": "18245901-7596-4b8f-92cb-dbcea1606038",
   "metadata": {},
   "outputs": [],
   "source": [
    "l_new = bd.Method(('AESA', 'trial-CC_CO2concentration')).load()"
   ]
  },
  {
   "cell_type": "code",
   "execution_count": 278,
   "id": "4059e4e6-7006-43d5-aae5-53557e94c781",
   "metadata": {},
   "outputs": [],
   "source": [
    "l_or = bd.Method(('PBs-LCIA (baseline)', 'Climate change - CO2 concentration')).load()"
   ]
  },
  {
   "cell_type": "code",
   "execution_count": 279,
   "id": "7be8c94f-3777-43b4-aadc-a940804a76d3",
   "metadata": {},
   "outputs": [
    {
     "data": {
      "text/plain": [
       "42"
      ]
     },
     "execution_count": 279,
     "metadata": {},
     "output_type": "execute_result"
    }
   ],
   "source": [
    "len(l_new)"
   ]
  },
  {
   "cell_type": "code",
   "execution_count": 280,
   "id": "170c4920-008b-415d-b558-7ce25ab9bfd5",
   "metadata": {},
   "outputs": [
    {
     "data": {
      "text/plain": [
       "42"
      ]
     },
     "execution_count": 280,
     "metadata": {},
     "output_type": "execute_result"
    }
   ],
   "source": [
    "len(l_or)"
   ]
  },
  {
   "cell_type": "code",
   "execution_count": 285,
   "id": "27084a0c-a854-4d61-ba76-69613bed247d",
   "metadata": {},
   "outputs": [
    {
     "data": {
      "text/plain": [
       "[]"
      ]
     },
     "execution_count": 285,
     "metadata": {},
     "output_type": "execute_result"
    }
   ],
   "source": [
    "[i for i in l_or if i not in l_new]"
   ]
  },
  {
   "cell_type": "code",
   "execution_count": null,
   "id": "6ff9f43a-b6f8-43c2-bb0c-975a3e557bd7",
   "metadata": {},
   "outputs": [],
   "source": []
  }
 ],
 "metadata": {
  "kernelspec": {
   "display_name": "Python (bw2)",
   "language": "python",
   "name": "bw2"
  },
  "language_info": {
   "codemirror_mode": {
    "name": "ipython",
    "version": 3
   },
   "file_extension": ".py",
   "mimetype": "text/x-python",
   "name": "python",
   "nbconvert_exporter": "python",
   "pygments_lexer": "ipython3",
   "version": "3.9.7"
  }
 },
 "nbformat": 4,
 "nbformat_minor": 5
}
