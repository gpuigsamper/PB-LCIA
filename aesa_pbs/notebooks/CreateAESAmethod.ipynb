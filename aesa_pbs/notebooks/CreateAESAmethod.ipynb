{
 "cells": [
  {
   "cell_type": "code",
   "execution_count": 1,
   "id": "547e02f9-e2c9-4fc1-8bb6-ea62ebc5c6e9",
   "metadata": {},
   "outputs": [],
   "source": [
    "import bw2data as bd\n",
    "import brightway2 as bw"
   ]
  },
  {
   "cell_type": "code",
   "execution_count": 2,
   "id": "c6dcdba8-e048-4bea-bd06-9997eca2a618",
   "metadata": {},
   "outputs": [
    {
     "data": {
      "text/plain": [
       "Brightway2 projects manager with 13 objects:\n",
       "\tStepByStep\n",
       "\tbw2_class_2020_example_database\n",
       "\tbw2_class_2020_intro\n",
       "\tcar comparison paper\n",
       "\tcheck_electricity_EES_paper\n",
       "\tcheck_impact_electricity\n",
       "\tdefault\n",
       "\tecoinvent 3.6\n",
       "\tglobal_power_mix\n",
       "\tparameters - manual creation\n",
       "\tpremise_scenarios\n",
       "\tsimapro-ecoinvent-import\n",
       "\ttrial-import_from_SimaPro\n",
       "Use `projects.report()` to get a report on all projects."
      ]
     },
     "execution_count": 2,
     "metadata": {},
     "output_type": "execute_result"
    }
   ],
   "source": [
    "bd.projects"
   ]
  },
  {
   "cell_type": "code",
   "execution_count": 3,
   "id": "270c1244-e1bc-460d-a307-855c7d60fcd3",
   "metadata": {},
   "outputs": [],
   "source": [
    "bd.projects.set_current(\"ecoinvent 3.6\")"
   ]
  },
  {
   "cell_type": "code",
   "execution_count": 4,
   "id": "647e604a-79fd-44cb-8c92-dc0d313d816a",
   "metadata": {},
   "outputs": [
    {
     "data": {
      "text/plain": [
       "Databases dictionary with 3 object(s):\n",
       "\tbiosphere3\n",
       "\tecoinvent 3.5\n",
       "\tecoinvent 3.6"
      ]
     },
     "execution_count": 4,
     "metadata": {},
     "output_type": "execute_result"
    }
   ],
   "source": [
    "bd.databases"
   ]
  },
  {
   "cell_type": "code",
   "execution_count": 5,
   "id": "132ff322-178d-49f1-9132-c4ed0c79cb03",
   "metadata": {},
   "outputs": [],
   "source": [
    "# deleted all PBs related methods from project:\n",
    "\n",
    "# for method in [method for method in bd.methods if \"PB\" in str(method)]:\n",
    "#     del bd.methods[method]\n",
    "\n",
    "# del bd.methods[('AESA', 'trial-CC_CO2concentration')]"
   ]
  },
  {
   "cell_type": "code",
   "execution_count": 6,
   "id": "17541144-7286-4707-9840-0382870f3ffc",
   "metadata": {},
   "outputs": [],
   "source": [
    "import os\n",
    "from pathlib import Path\n",
    "\n",
    "\n",
    "def write_changelog():\n",
    "    LOGS_PATH = Path(\n",
    "        r\"C:\\Users\\ViteksPC\\Documents\\00-ETH_projects\\AESAmethods\\changelog\"\n",
    "    )\n",
    "    logs = os.listdir(LOGS_PATH)\n",
    "\n",
    "    changelog = {}\n",
    "    for log in logs:\n",
    "        filepath = LOGS_PATH / log\n",
    "        with open(filepath, \"r\") as f:\n",
    "            changelog[log.removesuffix(\".txt\")] = f.readlines()\n",
    "    return changelog"
   ]
  },
  {
   "cell_type": "code",
   "execution_count": 7,
   "id": "cac3dcb2-ce25-4bfe-bde3-e2d7730b8685",
   "metadata": {},
   "outputs": [],
   "source": [
    "changelog=write_changelog()\n",
    "# print(\"\".join(changelog[\"log_v071\"]))"
   ]
  },
  {
   "cell_type": "code",
   "execution_count": 8,
   "id": "c3c27472-2c9c-437c-b5bc-78caf1437c71",
   "metadata": {},
   "outputs": [],
   "source": [
    "Ryberg_et_al = \"Ryberg, M. W.; Owsianiak, M.; Richardson, K.; Hauschild, M. Z.\"\n",
    "Galan_et_al = \"Galán-Martín, Á.; Tulus, V.; Díaz, I.; Pozo, C.; Pérez-Ramírez, J.; Guillén-Gosálbez, G.\"\n",
    "doi_ryberg = \"10.1016/j.ecolind.2017.12.065\"\n",
    "doi_galan = \"10.1016/j.oneear.2021.04.001\"\n",
    "\n",
    "author_implemented = \"Tulus, V.\""
   ]
  },
  {
   "cell_type": "code",
   "execution_count": 21,
   "id": "56f6347c-c2c4-4568-9b59-0a22b8fe7c1a",
   "metadata": {},
   "outputs": [],
   "source": [
    "# write_methods() does not write metadata other than \"description\", \"unit\" and \"filename\"\n",
    "# store everything in the description using json.dumps()\n",
    "# later can be retrieved with json.loads()\n",
    "\n",
    "import json\n",
    "from pathlib import Path\n",
    "\n",
    "import bw2data as bd\n",
    "from bw2io import ExcelLCIAImporter\n",
    "\n",
    "DATA_PATH = Path(\n",
    "    r\"C:\\Users\\ViteksPC\\Documents\\00-ETH_projects\\AESAmethods\", \"bw_methods\"\n",
    ")\n",
    "\n",
    "\n",
    "def get_biosphere_database():\n",
    "    ERROR = \"AESA (PBs-LCIA) method works with ecoinvent biosphere flows only. Install base ecoinvent data\"\n",
    "    assert \"biosphere3\" in bd.databases, ERROR\n",
    "    return list(bd.Database(\"biosphere3\"))\n",
    "\n",
    "\n",
    "# strategy: excel can have empty lines\n",
    "def drop_empty_lines(data):\n",
    "    for method in data:\n",
    "        method[\"exchanges\"] = [obj for obj in method[\"exchanges\"] if obj[\"name\"]]\n",
    "    return data\n",
    "\n",
    "\n",
    "def add_aesa_pbs():\n",
    "    biosphere = get_biosphere_database()\n",
    "\n",
    "    # In categories (\n",
    "    # name: (method, categories)\n",
    "    # unit: unit\n",
    "    # description:\n",
    "    # {overview: \"overview text\",\n",
    "    #  authors: of the method/category,\n",
    "    #  doi: doi of published work,\n",
    "    #  changelog: changelog,\n",
    "    #  implemented_by: author implemented}\n",
    "    # filename: excel file with categories\n",
    "\n",
    "    categories = {\n",
    "        (\n",
    "            (\"AESA (PBs-LCIA)\", \"climate change\", \"atmospheric CO2 concentration\"),\n",
    "            \"ppm\",\n",
    "            json.dumps(\n",
    "                {\n",
    "                    \"overview\": \"\",\n",
    "                    \"authors\": Ryberg_et_al,\n",
    "                    \"doi\": doi_ryberg,\n",
    "                    \"changelog\": changelog,\n",
    "                    \"implemented_by\": author_implemented,\n",
    "                }\n",
    "            ),\n",
    "            \"aesa_ClimateChange_AtmosphericCO2Concentration.xlsx\",\n",
    "        ),\n",
    "        (\n",
    "            (\n",
    "                \"AESA (PBs-LCIA)\",\n",
    "                \"climate change\",\n",
    "                \"energy imbalance at top-of-atmosphere\",\n",
    "            ),\n",
    "            \"Wm-2\",\n",
    "            json.dumps(\n",
    "                {\n",
    "                    \"overview\": \"\",\n",
    "                    \"authors\": Ryberg_et_al,\n",
    "                    \"doi\": doi_ryberg,\n",
    "                    \"changelog\": changelog,\n",
    "                    \"implemented_by\": author_implemented,\n",
    "                }\n",
    "            ),\n",
    "            \"aesa_ClimateChange_EnergyImbalance.xlsx\",\n",
    "        ),\n",
    "        (\n",
    "            (\"AESA (PBs-LCIA)\", \"ozone depletion\", \"stratospheric O3 concentration\"),\n",
    "            \"Dobson unit\",\n",
    "            json.dumps(\n",
    "                {\n",
    "                    \"overview\": \"\",\n",
    "                    \"authors\": Ryberg_et_al,\n",
    "                    \"doi\": doi_ryberg,\n",
    "                    \"changelog\": changelog,\n",
    "                    \"implemented_by\": author_implemented,\n",
    "                }\n",
    "            ),\n",
    "            \"aesa_OzoneDepletion_StratosphericO3Concentration.xlsx\",\n",
    "        ),\n",
    "        (\n",
    "            (\"AESA (PBs-LCIA)\", \"ocean acidification\", \"carbonate ion concentration\"),\n",
    "            \"omega aragonite\",\n",
    "            json.dumps(\n",
    "                {\n",
    "                    \"overview\": \"\",\n",
    "                    \"authors\": Ryberg_et_al,\n",
    "                    \"doi\": doi_ryberg,\n",
    "                    \"changelog\": changelog,\n",
    "                    \"implemented_by\": author_implemented,\n",
    "                }\n",
    "            ),\n",
    "            \"aesa_OceanAcidification_CarbontateIonConcentration.xlsx\",\n",
    "        ),\n",
    "        (\n",
    "            (\"AESA (PBs-LCIA)\", \"biogeochemical flows\", \"phosphorus\"),\n",
    "            \"Tg P\",\n",
    "            json.dumps(\n",
    "                {\n",
    "                    \"overview\": \"P flow from freshwater systems into the ocean\",\n",
    "                    \"authors\": Ryberg_et_al,\n",
    "                    \"doi\": doi_ryberg,\n",
    "                    \"changelog\": changelog,\n",
    "                    \"implemented_by\": author_implemented,\n",
    "                }\n",
    "            ),\n",
    "            \"aesa_BiogeochemicalFlows_P.xlsx\",\n",
    "        ),\n",
    "        (\n",
    "            (\"AESA (PBs-LCIA)\", \"biogeochemical flows\", \"nitrogen\"),\n",
    "            \"Tg N\",\n",
    "            json.dumps(\n",
    "                {\n",
    "                    \"overview\": \"industrial and intentional biological fixation of N\",\n",
    "                    \"authors\": Ryberg_et_al,\n",
    "                    \"doi\": doi_ryberg,\n",
    "                    \"changelog\": changelog,\n",
    "                    \"implemented_by\": author_implemented,\n",
    "                }\n",
    "            ),\n",
    "            \"aesa_BiogeochemicalFlows_N.xlsx\",\n",
    "        ),\n",
    "        (\n",
    "            (\"AESA (PBs-LCIA)\", \"land-system change\", \"global\"),\n",
    "            \"% forested land\",\n",
    "            json.dumps(\n",
    "                {\n",
    "                    \"overview\": \"Unit: area of forested land as % of original forest cover\",\n",
    "                    \"authors\": Ryberg_et_al,\n",
    "                    \"doi\": doi_ryberg,\n",
    "                    \"changelog\": changelog,\n",
    "                    \"implemented_by\": author_implemented,\n",
    "                }\n",
    "            ),\n",
    "            \"aesa_LandSystemChange_Global.xlsx\",\n",
    "        ),\n",
    "        (\n",
    "            (\"AESA (PBs-LCIA)\", \"freshwater use\", \"global\"),\n",
    "            \"km3\",\n",
    "            json.dumps(\n",
    "                {\n",
    "                    \"overview\": \"Unit: Maximum amount of consumptive blue water use per year\",\n",
    "                    \"authors\": Ryberg_et_al,\n",
    "                    \"doi\": doi_ryberg,\n",
    "                    \"changelog\": changelog,\n",
    "                    \"implemented_by\": author_implemented,\n",
    "                }\n",
    "            ),\n",
    "            \"aesa_FreshwaterUse_Global.xlsx\",\n",
    "        ),\n",
    "        (\n",
    "            (\n",
    "                \"AESA (PBs-LCIA)\",\n",
    "                \"change in biosphere integrity\",\n",
    "                \"functional diversity\",\n",
    "            ),\n",
    "            \"% BII loss\",\n",
    "            json.dumps(\n",
    "                {\n",
    "                    \"overview\": \"Unit: % of Biosphere Intactness Index loss\",\n",
    "                    \"authors\": Galan_et_al,\n",
    "                    \"doi\": doi_galan,\n",
    "                    \"changelog\": changelog,\n",
    "                    \"implemented_by\": author_implemented,\n",
    "                }\n",
    "            ),\n",
    "            \"aesa_ChangeBiosphereIntegrity_FunctionalDiversity_Hierarchist.xlsx\",\n",
    "        ),\n",
    "    }\n",
    "\n",
    "    for cat in categories:\n",
    "        print(f\"Adding {cat[0]}\")\n",
    "        method = ExcelLCIAImporter(\n",
    "            filepath=DATA_PATH / cat[-1],\n",
    "            name=cat[0],\n",
    "            unit=cat[1],\n",
    "            description=cat[2],\n",
    "            filename=cat[-1],\n",
    "        )\n",
    "\n",
    "        # apply strategies\n",
    "        method.apply_strategies(method.strategies + [drop_empty_lines])\n",
    "\n",
    "        # confirm that everything is correctly linked\n",
    "        assert len(list(method.unlinked)) == 0\n",
    "\n",
    "        # write method\n",
    "        method.write_methods(overwrite=True, verbose=True)\n",
    "        print(\"\")"
   ]
  },
  {
   "cell_type": "code",
   "execution_count": 22,
   "id": "36e7bd3f-866d-4729-a60f-149ee169be2b",
   "metadata": {},
   "outputs": [
    {
     "name": "stdout",
     "output_type": "stream",
     "text": [
      "Adding ('AESA (PBs-LCIA)', 'land-system change', 'global')\n",
      "Applying strategy: csv_restore_tuples\n",
      "Applying strategy: csv_numerize\n",
      "Applying strategy: csv_drop_unknown\n",
      "Applying strategy: set_biosphere_type\n",
      "Applying strategy: drop_unspecified_subcategories\n",
      "Applying strategy: link_iterable_by_fields\n",
      "Applying strategy: drop_falsey_uncertainty_fields_but_keep_zeros\n",
      "Applying strategy: convert_uncertainty_types_to_integers\n",
      "Applying strategy: drop_empty_lines\n",
      "Applied 9 strategies in 0.25 seconds\n",
      "Wrote 1 LCIA methods with 10 characterization factors\n",
      "\n",
      "Adding ('AESA (PBs-LCIA)', 'change in biosphere integrity', 'functional diversity')\n",
      "Applying strategy: csv_restore_tuples\n",
      "Applying strategy: csv_numerize\n",
      "Applying strategy: csv_drop_unknown\n",
      "Applying strategy: set_biosphere_type\n",
      "Applying strategy: drop_unspecified_subcategories\n",
      "Applying strategy: link_iterable_by_fields\n",
      "Applying strategy: drop_falsey_uncertainty_fields_but_keep_zeros\n",
      "Applying strategy: convert_uncertainty_types_to_integers\n",
      "Applying strategy: drop_empty_lines\n",
      "Applied 9 strategies in 0.13 seconds\n",
      "Wrote 1 LCIA methods with 76 characterization factors\n",
      "\n",
      "Adding ('AESA (PBs-LCIA)', 'freshwater use', 'global')\n",
      "Applying strategy: csv_restore_tuples\n",
      "Applying strategy: csv_numerize\n",
      "Applying strategy: csv_drop_unknown\n",
      "Applying strategy: set_biosphere_type\n",
      "Applying strategy: drop_unspecified_subcategories\n",
      "Applying strategy: link_iterable_by_fields\n",
      "Applying strategy: drop_falsey_uncertainty_fields_but_keep_zeros\n",
      "Applying strategy: convert_uncertainty_types_to_integers\n",
      "Applying strategy: drop_empty_lines\n",
      "Applied 9 strategies in 0.15 seconds\n",
      "Wrote 1 LCIA methods with 12 characterization factors\n",
      "\n",
      "Adding ('AESA (PBs-LCIA)', 'biogeochemical flows', 'phosphorus')\n",
      "Applying strategy: csv_restore_tuples\n",
      "Applying strategy: csv_numerize\n",
      "Applying strategy: csv_drop_unknown\n",
      "Applying strategy: set_biosphere_type\n",
      "Applying strategy: drop_unspecified_subcategories\n",
      "Applying strategy: link_iterable_by_fields\n",
      "Applying strategy: drop_falsey_uncertainty_fields_but_keep_zeros\n",
      "Applying strategy: convert_uncertainty_types_to_integers\n",
      "Applying strategy: drop_empty_lines\n",
      "Applied 9 strategies in 0.25 seconds\n",
      "Wrote 1 LCIA methods with 2 characterization factors\n",
      "\n",
      "Adding ('AESA (PBs-LCIA)', 'biogeochemical flows', 'nitrogen')\n",
      "Applying strategy: csv_restore_tuples\n",
      "Applying strategy: csv_numerize\n",
      "Applying strategy: csv_drop_unknown\n",
      "Applying strategy: set_biosphere_type\n",
      "Applying strategy: drop_unspecified_subcategories\n",
      "Applying strategy: link_iterable_by_fields\n",
      "Applying strategy: drop_falsey_uncertainty_fields_but_keep_zeros\n",
      "Applying strategy: convert_uncertainty_types_to_integers\n",
      "Applying strategy: drop_empty_lines\n",
      "Applied 9 strategies in 0.15 seconds\n",
      "Wrote 1 LCIA methods with 2 characterization factors\n",
      "\n",
      "Adding ('AESA (PBs-LCIA)', 'climate change', 'energy imbalance at top-of-atmosphere')\n",
      "Applying strategy: csv_restore_tuples\n",
      "Applying strategy: csv_numerize\n",
      "Applying strategy: csv_drop_unknown\n",
      "Applying strategy: set_biosphere_type\n",
      "Applying strategy: drop_unspecified_subcategories\n",
      "Applying strategy: link_iterable_by_fields\n",
      "Applying strategy: drop_falsey_uncertainty_fields_but_keep_zeros\n",
      "Applying strategy: convert_uncertainty_types_to_integers\n",
      "Applying strategy: drop_empty_lines\n",
      "Applied 9 strategies in 0.17 seconds\n",
      "Wrote 1 LCIA methods with 98 characterization factors\n",
      "\n",
      "Adding ('AESA (PBs-LCIA)', 'ocean acidification', 'carbonate ion concentration')\n",
      "Applying strategy: csv_restore_tuples\n",
      "Applying strategy: csv_numerize\n",
      "Applying strategy: csv_drop_unknown\n",
      "Applying strategy: set_biosphere_type\n",
      "Applying strategy: drop_unspecified_subcategories\n",
      "Applying strategy: link_iterable_by_fields\n",
      "Applying strategy: drop_falsey_uncertainty_fields_but_keep_zeros\n",
      "Applying strategy: convert_uncertainty_types_to_integers\n",
      "Applying strategy: drop_empty_lines\n",
      "Applied 9 strategies in 0.28 seconds\n",
      "Wrote 1 LCIA methods with 42 characterization factors\n",
      "\n",
      "Adding ('AESA (PBs-LCIA)', 'climate change', 'atmospheric CO2 concentration')\n",
      "Applying strategy: csv_restore_tuples\n",
      "Applying strategy: csv_numerize\n",
      "Applying strategy: csv_drop_unknown\n",
      "Applying strategy: set_biosphere_type\n",
      "Applying strategy: drop_unspecified_subcategories\n",
      "Applying strategy: link_iterable_by_fields\n",
      "Applying strategy: drop_falsey_uncertainty_fields_but_keep_zeros\n",
      "Applying strategy: convert_uncertainty_types_to_integers\n",
      "Applying strategy: drop_empty_lines\n",
      "Applied 9 strategies in 0.29 seconds\n",
      "Wrote 1 LCIA methods with 42 characterization factors\n",
      "\n",
      "Adding ('AESA (PBs-LCIA)', 'ozone depletion', 'stratospheric O3 concentration')\n",
      "Applying strategy: csv_restore_tuples\n",
      "Applying strategy: csv_numerize\n",
      "Applying strategy: csv_drop_unknown\n",
      "Applying strategy: set_biosphere_type\n",
      "Applying strategy: drop_unspecified_subcategories\n",
      "Applying strategy: link_iterable_by_fields\n",
      "Applying strategy: drop_falsey_uncertainty_fields_but_keep_zeros\n",
      "Applying strategy: convert_uncertainty_types_to_integers\n",
      "Applying strategy: drop_empty_lines\n",
      "Applied 9 strategies in 0.22 seconds\n",
      "Wrote 1 LCIA methods with 75 characterization factors\n",
      "\n"
     ]
    }
   ],
   "source": [
    "add_aesa_pbs()"
   ]
  },
  {
   "cell_type": "code",
   "execution_count": 23,
   "id": "f2ef0c98-7334-426c-a2fd-db3b23c56a26",
   "metadata": {},
   "outputs": [
    {
     "data": {
      "text/plain": [
       "[('AESA (PBs-LCIA)', 'land-system change', 'global'),\n",
       " ('AESA (PBs-LCIA)', 'change in biosphere integrity', 'functional diversity'),\n",
       " ('AESA (PBs-LCIA)', 'freshwater use', 'global'),\n",
       " ('AESA (PBs-LCIA)', 'biogeochemical flows', 'phosphorus'),\n",
       " ('AESA (PBs-LCIA)', 'biogeochemical flows', 'nitrogen'),\n",
       " ('AESA (PBs-LCIA)',\n",
       "  'climate change',\n",
       "  'energy imbalance at top-of-atmosphere'),\n",
       " ('AESA (PBs-LCIA)', 'ocean acidification', 'carbonate ion concentration'),\n",
       " ('AESA (PBs-LCIA)', 'climate change', 'atmospheric CO2 concentration'),\n",
       " ('AESA (PBs-LCIA)', 'ozone depletion', 'stratospheric O3 concentration')]"
      ]
     },
     "execution_count": 23,
     "metadata": {},
     "output_type": "execute_result"
    }
   ],
   "source": [
    "[method for method in bd.methods if \"PB\" in str(method)]"
   ]
  },
  {
   "cell_type": "code",
   "execution_count": 12,
   "id": "6ff9f43a-b6f8-43c2-bb0c-975a3e557bd7",
   "metadata": {},
   "outputs": [],
   "source": [
    "cc_ei = bd.Method(\n",
    "    (\"AESA (PBs-LCIA)\", \"climate change\", \"atmospheric CO2 concentration\")\n",
    ")"
   ]
  },
  {
   "cell_type": "code",
   "execution_count": 13,
   "id": "bc41ee3c-6125-4d29-9519-af65adbd44be",
   "metadata": {},
   "outputs": [
    {
     "data": {
      "text/plain": [
       "dict_keys(['description', 'filename', 'unit', 'abbreviation', 'num_cfs'])"
      ]
     },
     "execution_count": 13,
     "metadata": {},
     "output_type": "execute_result"
    }
   ],
   "source": [
    "cc_ei.metadata.keys()"
   ]
  },
  {
   "cell_type": "code",
   "execution_count": 14,
   "id": "37345f26-6f61-4388-8b4c-7c7ee1eb7c7a",
   "metadata": {},
   "outputs": [
    {
     "data": {
      "text/plain": [
       "dict_keys(['overview', 'authors', 'doi', 'changelog', 'implemented_by'])"
      ]
     },
     "execution_count": 14,
     "metadata": {},
     "output_type": "execute_result"
    }
   ],
   "source": [
    "json.loads(cc_ei.metadata[\"description\"]).keys()"
   ]
  },
  {
   "cell_type": "code",
   "execution_count": 15,
   "id": "55722427-1a30-4c99-ab7a-14c3091228b0",
   "metadata": {},
   "outputs": [
    {
     "name": "stdout",
     "output_type": "stream",
     "text": [
      "Tulus, V.\n"
     ]
    }
   ],
   "source": [
    "print(\"\".join(json.loads(cc_ei.metadata[\"description\"])[\"implemented_by\"]))"
   ]
  },
  {
   "cell_type": "code",
   "execution_count": 16,
   "id": "ed268624-39c2-485c-94fd-85a042f8cd26",
   "metadata": {},
   "outputs": [
    {
     "name": "stdout",
     "output_type": "stream",
     "text": [
      "2020-09-09: Updates from v0.71 to v0.72\n",
      "\n",
      "CFs for CO2 associated with land transformation are mofidied cosinstenly with \n",
      "the IPCC recommendations and considering the ecoinvent approach in which pulse \n",
      "CO2 emissions for Land Use Change are already \"\"amortized\"\" over the plantation lifetime.\n",
      "\n",
      "The characterization factors for CO2 fossil and CO2, land transformation, are now the same, \n",
      "consistently with other common LCA methodologies.\n",
      "\n",
      "##### Climate change - CO2 concentration #####\n",
      "CF for \"\"Carbon dioxide, land transformation\"\" has been changed \n",
      "from 8.97E-14 to 2.69E-11 (ppm / kg CO2)\n",
      "\n",
      "##### Climate change - Energy imbalance #####\n",
      "CF for \"\"Carbon dioxide, land transformation\"\" has been changed \n",
      "from 1.18E-15 to 3.53E-13 (Wm-2 / kg CO2)\n",
      "\n",
      "##### Ocean acidification #####\n",
      "CF for \"\"Carbon dioxide, land transformation\"\" has been changed \n",
      "from 2.74E-16 to 8.22E-14 (Omega Aragon / kg CO2)\n"
     ]
    }
   ],
   "source": [
    "print(\"\".join(json.loads(cc_ei.metadata[\"description\"])[\"changelog\"]['v0.72']))\n"
   ]
  },
  {
   "cell_type": "code",
   "execution_count": 24,
   "id": "49a54651-3d55-4558-a0b6-659312c602c7",
   "metadata": {},
   "outputs": [
    {
     "data": {
      "text/plain": [
       "Databases dictionary with 3 object(s):\n",
       "\tbiosphere3\n",
       "\tecoinvent 3.5\n",
       "\tecoinvent 3.6"
      ]
     },
     "execution_count": 24,
     "metadata": {},
     "output_type": "execute_result"
    }
   ],
   "source": [
    "bw.databases"
   ]
  },
  {
   "cell_type": "code",
   "execution_count": 29,
   "id": "4934177e-0cec-49d0-9851-e1d8bf424d0a",
   "metadata": {},
   "outputs": [],
   "source": [
    "act = [\n",
    "    act\n",
    "    for act in bw.Database(\"ecoinvent 3.5\")\n",
    "    if \"electricity production, natural gas, combined cycle power plant\" in act[\"name\"]\n",
    "    and 'CN-XJ' in act[\"location\"]\n",
    "][0]"
   ]
  },
  {
   "cell_type": "code",
   "execution_count": 30,
   "id": "56eb0518-8184-4f80-9245-48f980aa6371",
   "metadata": {},
   "outputs": [],
   "source": [
    "# act = bw.Database(\"ecoinvent 3.5\").random()"
   ]
  },
  {
   "cell_type": "code",
   "execution_count": 31,
   "id": "c4cbadb0-9f59-425b-b26e-599aa9bc344d",
   "metadata": {},
   "outputs": [
    {
     "data": {
      "text/plain": [
       "'electricity production, natural gas, combined cycle power plant' (kilowatt hour, CN-XJ, None)"
      ]
     },
     "execution_count": 31,
     "metadata": {},
     "output_type": "execute_result"
    }
   ],
   "source": [
    "act"
   ]
  },
  {
   "cell_type": "code",
   "execution_count": 32,
   "id": "f0af2605-d8a1-4881-8bef-7ab8d498a7d7",
   "metadata": {},
   "outputs": [
    {
     "ename": "NameError",
     "evalue": "name 'cc_ei' is not defined",
     "output_type": "error",
     "traceback": [
      "\u001b[1;31m---------------------------------------------------------------------------\u001b[0m",
      "\u001b[1;31mNameError\u001b[0m                                 Traceback (most recent call last)",
      "\u001b[1;32m~\\AppData\\Local\\Temp/ipykernel_15304/887994135.py\u001b[0m in \u001b[0;36m<module>\u001b[1;34m\u001b[0m\n\u001b[1;32m----> 1\u001b[1;33m \u001b[0mlca\u001b[0m \u001b[1;33m=\u001b[0m \u001b[0mbw\u001b[0m\u001b[1;33m.\u001b[0m\u001b[0mLCA\u001b[0m\u001b[1;33m(\u001b[0m\u001b[0mdemand\u001b[0m\u001b[1;33m=\u001b[0m\u001b[1;33m{\u001b[0m\u001b[0mact\u001b[0m\u001b[1;33m:\u001b[0m \u001b[1;36m1000\u001b[0m\u001b[1;33m}\u001b[0m\u001b[1;33m,\u001b[0m \u001b[0mmethod\u001b[0m\u001b[1;33m=\u001b[0m\u001b[0mcc_ei\u001b[0m\u001b[1;33m.\u001b[0m\u001b[0mname\u001b[0m\u001b[1;33m)\u001b[0m\u001b[1;33m\u001b[0m\u001b[1;33m\u001b[0m\u001b[0m\n\u001b[0m",
      "\u001b[1;31mNameError\u001b[0m: name 'cc_ei' is not defined"
     ]
    }
   ],
   "source": []
  },
  {
   "cell_type": "code",
   "execution_count": 21,
   "id": "5854c32c-e5e6-4560-b1f7-074d5aa4be39",
   "metadata": {},
   "outputs": [],
   "source": [
    "# PyPardisoError: The Pardiso solver failed with error code -3. See Pardiso documentation for details.\n",
    "# solution: https://stackoverflow.com/questions/70665142/pypardisoerror-the-pardiso-solver-failed-with-error-code-3-see-pardiso-docum"
   ]
  },
  {
   "cell_type": "code",
   "execution_count": 34,
   "id": "247959be-fa96-4ac8-8662-5cf015101032",
   "metadata": {},
   "outputs": [],
   "source": [
    "# lca = bw.LCA(demand={act: 1000}, method=cc_ei.name)\n",
    "# lca.lci()\n",
    "# lca.lcia()\n",
    "# lca.score\n",
    "# lca.method\n",
    "# bd.Method(lca.method).metadata[\"unit\"]\n",
    "# lca.demand"
   ]
  },
  {
   "cell_type": "code",
   "execution_count": 35,
   "id": "76da0cd3-3451-41bb-9abe-addfbcb4df63",
   "metadata": {},
   "outputs": [
    {
     "name": "stdout",
     "output_type": "stream",
     "text": [
      "('AESA (PBs-LCIA)', 'land-system change', 'global') 8.952845449129889e-14 % forested land\n",
      "('AESA (PBs-LCIA)', 'change in biosphere integrity', 'functional diversity') 7.256630704070737e-12 % BII loss\n",
      "('AESA (PBs-LCIA)', 'freshwater use', 'global') 2.4581489989510518e-09 km3\n",
      "('AESA (PBs-LCIA)', 'biogeochemical flows', 'phosphorus') 4.01601803929892e-15 Tg P\n",
      "('AESA (PBs-LCIA)', 'biogeochemical flows', 'nitrogen') 2.4029810407206315e-12 Tg N\n",
      "('AESA (PBs-LCIA)', 'climate change', 'energy imbalance at top-of-atmosphere') 2.3004136821040066e-10 Wm-2\n",
      "('AESA (PBs-LCIA)', 'ocean acidification', 'carbonate ion concentration') 5.324032739401178e-11 omega aragonite\n",
      "('AESA (PBs-LCIA)', 'climate change', 'atmospheric CO2 concentration') 1.74229650357756e-08 ppm\n",
      "('AESA (PBs-LCIA)', 'ozone depletion', 'stratospheric O3 concentration') 2.07276193502035e-12 Dobson unit\n"
     ]
    }
   ],
   "source": [
    "for method in [method for method in bd.methods if \"PB\" in str(method)]:\n",
    "    lca = bw.LCA(demand={act: 1000}, method=method)\n",
    "    lca.lci()\n",
    "    lca.lcia()\n",
    "    print(method, lca.score, bd.Method(lca.method).metadata[\"unit\"])"
   ]
  },
  {
   "cell_type": "code",
   "execution_count": 37,
   "id": "9fe8fd0c-cb6e-4596-9171-c46b94e38d3a",
   "metadata": {},
   "outputs": [],
   "source": [
    "import numpy as np"
   ]
  },
  {
   "cell_type": "code",
   "execution_count": 39,
   "id": "154edd88-3e98-4baa-841a-dd48fb336998",
   "metadata": {},
   "outputs": [
    {
     "data": {
      "text/plain": [
       "False"
      ]
     },
     "execution_count": 39,
     "metadata": {},
     "output_type": "execute_result"
    }
   ],
   "source": [
    "np.isclose(7.256630704070737e-12*1e5, 1.4466237E-10*1e5)"
   ]
  },
  {
   "cell_type": "code",
   "execution_count": 45,
   "id": "e8320eaf-c47d-4f4c-9cd9-0715ac8a0b34",
   "metadata": {},
   "outputs": [
    {
     "data": {
      "text/plain": [
       "True"
      ]
     },
     "execution_count": 45,
     "metadata": {},
     "output_type": "execute_result"
    }
   ],
   "source": [
    "np.isclose(2.4581489989510518e-09, 2.415162E-9)"
   ]
  },
  {
   "cell_type": "code",
   "execution_count": 46,
   "id": "963e050e-d980-4b1b-b4a9-3cdbda5eec9d",
   "metadata": {},
   "outputs": [
    {
     "data": {
      "text/plain": [
       "True"
      ]
     },
     "execution_count": 46,
     "metadata": {},
     "output_type": "execute_result"
    }
   ],
   "source": [
    "np.isclose(2.07276193502035e-12, 2.0739006E-12)"
   ]
  },
  {
   "cell_type": "code",
   "execution_count": 47,
   "id": "d73730fc-1911-49b7-a7bb-9944eebf426e",
   "metadata": {},
   "outputs": [
    {
     "data": {
      "text/plain": [
       "True"
      ]
     },
     "execution_count": 47,
     "metadata": {},
     "output_type": "execute_result"
    }
   ],
   "source": [
    "np.isclose(1.74229650357756e-08, 1.7432862E-8)"
   ]
  },
  {
   "cell_type": "code",
   "execution_count": 48,
   "id": "d7105c16-24c9-4c94-87af-e6fd49f900fb",
   "metadata": {},
   "outputs": [
    {
     "data": {
      "text/plain": [
       "True"
      ]
     },
     "execution_count": 48,
     "metadata": {},
     "output_type": "execute_result"
    }
   ],
   "source": [
    "np.isclose(2.4029810407206315e-12, 1.5164064E-12)"
   ]
  },
  {
   "cell_type": "code",
   "execution_count": 42,
   "id": "032cb866-1be3-4cc8-b7d3-8c5cc3cc6e05",
   "metadata": {},
   "outputs": [
    {
     "ename": "SyntaxError",
     "evalue": "invalid syntax (Temp/ipykernel_14580/1055626992.py, line 1)",
     "output_type": "error",
     "traceback": [
      "\u001b[1;36m  File \u001b[1;32m\"C:\\Users\\ViteksPC\\AppData\\Local\\Temp/ipykernel_14580/1055626992.py\"\u001b[1;36m, line \u001b[1;32m1\u001b[0m\n\u001b[1;33m    \"Climate change - CO2 concentration\"\t\"ppm\"\t1.7432862E-8\u001b[0m\n\u001b[1;37m                                        \t     \t^\u001b[0m\n\u001b[1;31mSyntaxError\u001b[0m\u001b[1;31m:\u001b[0m invalid syntax\n"
     ]
    }
   ],
   "source": [
    "\"Change in biosphere integrity - BII loss\"\t\"% BII loss\"\t1.4466237E-10\n",
    "\"Freshwater use - Global\"\t\"km3\"\t2.415162E-9\n",
    "\"Stratospheric ozone depletion\"\t\"DU\"\t2.0739006E-12\n",
    "\"Climate change - CO2 concentration\"\t\"ppm\"\t1.7432862E-8\n",
    "\"Biogeochemical flows - N\"\t\"Tg N\"\t1.5164064E-12\n",
    "\"Ocean acidification\"\t\"Omega Aragon\"\t5.327057E-11\n",
    "\"Land-system change - Global\"\t\"%\"\t8.9556587E-14\n",
    "\"Biogeochemical flows - P\"\t\"Tg P\"\t4.9823559E-15\n",
    "\"Climate change - Energy imbalance\"\t\"Wm-2\"\t2.3017236E-10"
   ]
  }
 ],
 "metadata": {
  "kernelspec": {
   "display_name": "Python (bw2)",
   "language": "python",
   "name": "bw2"
  },
  "language_info": {
   "codemirror_mode": {
    "name": "ipython",
    "version": 3
   },
   "file_extension": ".py",
   "mimetype": "text/x-python",
   "name": "python",
   "nbconvert_exporter": "python",
   "pygments_lexer": "ipython3",
   "version": "3.9.7"
  }
 },
 "nbformat": 4,
 "nbformat_minor": 5
}
