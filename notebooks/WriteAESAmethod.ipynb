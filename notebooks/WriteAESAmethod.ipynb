{
 "cells": [
  {
   "cell_type": "code",
   "execution_count": 1,
   "id": "547e02f9-e2c9-4fc1-8bb6-ea62ebc5c6e9",
   "metadata": {},
   "outputs": [],
   "source": [
    "import json\n",
    "\n",
    "import brightway2 as bw\n",
    "import bw2data as bd\n",
    "import markdown\n",
    "from IPython.display import HTML"
   ]
  },
  {
   "cell_type": "code",
   "execution_count": 2,
   "id": "65ec693b-84ee-4c97-848c-5499d12396b1",
   "metadata": {},
   "outputs": [],
   "source": [
    "import aesa_pbs"
   ]
  },
  {
   "cell_type": "code",
   "execution_count": 3,
   "id": "6754aa93-b048-4021-879d-eb2ca4e06153",
   "metadata": {},
   "outputs": [
    {
     "data": {
      "text/plain": [
       "'0.8.0'"
      ]
     },
     "execution_count": 3,
     "metadata": {},
     "output_type": "execute_result"
    }
   ],
   "source": [
    "aesa_pbs.__version__"
   ]
  },
  {
   "cell_type": "code",
   "execution_count": 4,
   "id": "499a11e7-2655-40a3-87b1-9bc9a2b31df4",
   "metadata": {},
   "outputs": [],
   "source": [
    "# dir(aesa_pbs)"
   ]
  },
  {
   "cell_type": "code",
   "execution_count": 5,
   "id": "c6dcdba8-e048-4bea-bd06-9997eca2a618",
   "metadata": {},
   "outputs": [],
   "source": [
    "# bd.projects"
   ]
  },
  {
   "cell_type": "code",
   "execution_count": 6,
   "id": "270c1244-e1bc-460d-a307-855c7d60fcd3",
   "metadata": {},
   "outputs": [],
   "source": [
    "bd.projects.set_current(\"default\")"
   ]
  },
  {
   "cell_type": "code",
   "execution_count": 7,
   "id": "647e604a-79fd-44cb-8c92-dc0d313d816a",
   "metadata": {},
   "outputs": [],
   "source": [
    "# bd.databases"
   ]
  },
  {
   "cell_type": "raw",
   "id": "88019b75-ee80-4279-8a48-54bf8387eda6",
   "metadata": {},
   "source": [
    "# import sys\n",
    "# import os\n",
    "\n",
    "# module_path = os.path.abspath(os.path.join(\"../src\"))\n",
    "# # `..` indicate a relative path to `aesa_pbs` directory\n",
    "# if module_path not in sys.path:\n",
    "#     sys.path.append(module_path)"
   ]
  },
  {
   "cell_type": "code",
   "execution_count": 8,
   "id": "3269ac18-3d4c-43cb-a6c5-8299dd818520",
   "metadata": {
    "tags": []
   },
   "outputs": [
    {
     "name": "stdout",
     "output_type": "stream",
     "text": [
      "Adding ('AESA (PBs-LCIA)', 'biogeochemical flows', 'nitrogen')\n",
      "Applying strategy: csv_restore_tuples\n",
      "Applying strategy: csv_numerize\n",
      "Applying strategy: csv_drop_unknown\n",
      "Applying strategy: set_biosphere_type\n",
      "Applying strategy: drop_unspecified_subcategories\n",
      "Applying strategy: link_iterable_by_fields\n",
      "Applying strategy: drop_falsey_uncertainty_fields_but_keep_zeros\n",
      "Applying strategy: convert_uncertainty_types_to_integers\n",
      "Applying strategy: drop_empty_lines\n",
      "Applied 9 strategies in 0.15 seconds\n",
      "Wrote 1 LCIA methods with 2 characterization factors\n",
      "\n",
      "Adding ('AESA (PBs-LCIA)', 'land-system change', 'global')\n",
      "Applying strategy: csv_restore_tuples\n",
      "Applying strategy: csv_numerize\n",
      "Applying strategy: csv_drop_unknown\n",
      "Applying strategy: set_biosphere_type\n",
      "Applying strategy: drop_unspecified_subcategories\n",
      "Applying strategy: link_iterable_by_fields\n",
      "Applying strategy: drop_falsey_uncertainty_fields_but_keep_zeros\n",
      "Applying strategy: convert_uncertainty_types_to_integers\n",
      "Applying strategy: drop_empty_lines\n",
      "Applied 9 strategies in 0.15 seconds\n",
      "Wrote 1 LCIA methods with 10 characterization factors\n",
      "\n",
      "Adding ('AESA (PBs-LCIA)', 'climate change', 'energy imbalance at top-of-atmosphere')\n",
      "Applying strategy: csv_restore_tuples\n",
      "Applying strategy: csv_numerize\n",
      "Applying strategy: csv_drop_unknown\n",
      "Applying strategy: set_biosphere_type\n",
      "Applying strategy: drop_unspecified_subcategories\n",
      "Applying strategy: link_iterable_by_fields\n",
      "Applying strategy: drop_falsey_uncertainty_fields_but_keep_zeros\n",
      "Applying strategy: convert_uncertainty_types_to_integers\n",
      "Applying strategy: drop_empty_lines\n",
      "Applied 9 strategies in 0.20 seconds\n",
      "Wrote 1 LCIA methods with 98 characterization factors\n",
      "\n",
      "Adding ('AESA (PBs-LCIA)', 'ocean acidification', 'carbonate ion concentration')\n",
      "Applying strategy: csv_restore_tuples\n",
      "Applying strategy: csv_numerize\n",
      "Applying strategy: csv_drop_unknown\n",
      "Applying strategy: set_biosphere_type\n",
      "Applying strategy: drop_unspecified_subcategories\n",
      "Applying strategy: link_iterable_by_fields\n",
      "Applying strategy: drop_falsey_uncertainty_fields_but_keep_zeros\n",
      "Applying strategy: convert_uncertainty_types_to_integers\n",
      "Applying strategy: drop_empty_lines\n",
      "Applied 9 strategies in 0.17 seconds\n",
      "Wrote 1 LCIA methods with 42 characterization factors\n",
      "\n",
      "Adding ('AESA (PBs-LCIA)', 'change in biosphere integrity', 'functional diversity')\n",
      "Applying strategy: csv_restore_tuples\n",
      "Applying strategy: csv_numerize\n",
      "Applying strategy: csv_drop_unknown\n",
      "Applying strategy: set_biosphere_type\n",
      "Applying strategy: drop_unspecified_subcategories\n",
      "Applying strategy: link_iterable_by_fields\n",
      "Applying strategy: drop_falsey_uncertainty_fields_but_keep_zeros\n",
      "Applying strategy: convert_uncertainty_types_to_integers\n",
      "Applying strategy: drop_empty_lines\n",
      "Applied 9 strategies in 0.21 seconds\n",
      "Wrote 1 LCIA methods with 76 characterization factors\n",
      "\n",
      "Adding ('AESA (PBs-LCIA)', 'climate change', 'atmospheric CO2 concentration')\n",
      "Applying strategy: csv_restore_tuples\n",
      "Applying strategy: csv_numerize\n",
      "Applying strategy: csv_drop_unknown\n",
      "Applying strategy: set_biosphere_type\n",
      "Applying strategy: drop_unspecified_subcategories\n",
      "Applying strategy: link_iterable_by_fields\n",
      "Applying strategy: drop_falsey_uncertainty_fields_but_keep_zeros\n",
      "Applying strategy: convert_uncertainty_types_to_integers\n",
      "Applying strategy: drop_empty_lines\n",
      "Applied 9 strategies in 0.28 seconds\n",
      "Wrote 1 LCIA methods with 42 characterization factors\n",
      "\n",
      "Adding ('AESA (PBs-LCIA)', 'biogeochemical flows', 'phosphorus')\n",
      "Applying strategy: csv_restore_tuples\n",
      "Applying strategy: csv_numerize\n",
      "Applying strategy: csv_drop_unknown\n",
      "Applying strategy: set_biosphere_type\n",
      "Applying strategy: drop_unspecified_subcategories\n",
      "Applying strategy: link_iterable_by_fields\n",
      "Applying strategy: drop_falsey_uncertainty_fields_but_keep_zeros\n",
      "Applying strategy: convert_uncertainty_types_to_integers\n",
      "Applying strategy: drop_empty_lines\n",
      "Applied 9 strategies in 0.24 seconds\n",
      "Wrote 1 LCIA methods with 2 characterization factors\n",
      "\n",
      "Adding ('AESA (PBs-LCIA)', 'freshwater use', 'global')\n",
      "Applying strategy: csv_restore_tuples\n",
      "Applying strategy: csv_numerize\n",
      "Applying strategy: csv_drop_unknown\n",
      "Applying strategy: set_biosphere_type\n",
      "Applying strategy: drop_unspecified_subcategories\n",
      "Applying strategy: link_iterable_by_fields\n",
      "Applying strategy: drop_falsey_uncertainty_fields_but_keep_zeros\n",
      "Applying strategy: convert_uncertainty_types_to_integers\n",
      "Applying strategy: drop_empty_lines\n",
      "Applied 9 strategies in 0.26 seconds\n",
      "Wrote 1 LCIA methods with 12 characterization factors\n",
      "\n",
      "Adding ('AESA (PBs-LCIA)', 'ozone depletion', 'stratospheric O3 concentration')\n",
      "Applying strategy: csv_restore_tuples\n",
      "Applying strategy: csv_numerize\n",
      "Applying strategy: csv_drop_unknown\n",
      "Applying strategy: set_biosphere_type\n",
      "Applying strategy: drop_unspecified_subcategories\n",
      "Applying strategy: link_iterable_by_fields\n",
      "Applying strategy: drop_falsey_uncertainty_fields_but_keep_zeros\n",
      "Applying strategy: convert_uncertainty_types_to_integers\n",
      "Applying strategy: drop_empty_lines\n",
      "Applied 9 strategies in 0.18 seconds\n",
      "Wrote 1 LCIA methods with 75 characterization factors\n",
      "\n"
     ]
    }
   ],
   "source": [
    "aesa_pbs.add_aesa_pbs()"
   ]
  },
  {
   "cell_type": "code",
   "execution_count": 9,
   "id": "132ff322-178d-49f1-9132-c4ed0c79cb03",
   "metadata": {},
   "outputs": [],
   "source": [
    "# deleted all PBs related methods from project:\n",
    "\n",
    "# for method in [method for method in bd.methods if \"PB\" in str(method)]:\n",
    "#     del bd.methods[method]\n",
    "\n",
    "# del bd.methods[('AESA', 'trial-CC_CO2concentration')]"
   ]
  },
  {
   "cell_type": "code",
   "execution_count": 10,
   "id": "f2ef0c98-7334-426c-a2fd-db3b23c56a26",
   "metadata": {},
   "outputs": [
    {
     "data": {
      "text/plain": [
       "[('AESA (PBs-LCIA)', 'biogeochemical flows', 'nitrogen'),\n",
       " ('AESA (PBs-LCIA)', 'land-system change', 'global'),\n",
       " ('AESA (PBs-LCIA)',\n",
       "  'climate change',\n",
       "  'energy imbalance at top-of-atmosphere'),\n",
       " ('AESA (PBs-LCIA)', 'ocean acidification', 'carbonate ion concentration'),\n",
       " ('AESA (PBs-LCIA)', 'change in biosphere integrity', 'functional diversity'),\n",
       " ('AESA (PBs-LCIA)', 'climate change', 'atmospheric CO2 concentration'),\n",
       " ('AESA (PBs-LCIA)', 'biogeochemical flows', 'phosphorus'),\n",
       " ('AESA (PBs-LCIA)', 'freshwater use', 'global'),\n",
       " ('AESA (PBs-LCIA)', 'ozone depletion', 'stratospheric O3 concentration')]"
      ]
     },
     "execution_count": 10,
     "metadata": {},
     "output_type": "execute_result"
    }
   ],
   "source": [
    "[method for method in bd.methods if \"PB\" in str(method)]"
   ]
  },
  {
   "cell_type": "code",
   "execution_count": 11,
   "id": "6ff9f43a-b6f8-43c2-bb0c-975a3e557bd7",
   "metadata": {},
   "outputs": [],
   "source": [
    "cc_ei = bd.Method(\n",
    "    (\"AESA (PBs-LCIA)\", \"climate change\", \"atmospheric CO2 concentration\")\n",
    ")"
   ]
  },
  {
   "cell_type": "code",
   "execution_count": 12,
   "id": "bc41ee3c-6125-4d29-9519-af65adbd44be",
   "metadata": {},
   "outputs": [
    {
     "data": {
      "text/plain": [
       "dict_keys(['description', 'filename', 'unit', 'abbreviation', 'num_cfs'])"
      ]
     },
     "execution_count": 12,
     "metadata": {},
     "output_type": "execute_result"
    }
   ],
   "source": [
    "cc_ei.metadata.keys()"
   ]
  },
  {
   "cell_type": "code",
   "execution_count": 13,
   "id": "37345f26-6f61-4388-8b4c-7c7ee1eb7c7a",
   "metadata": {},
   "outputs": [
    {
     "data": {
      "text/plain": [
       "dict_keys(['overview', 'authors', 'doi', 'current_version', 'changelog', 'implemented_by'])"
      ]
     },
     "execution_count": 13,
     "metadata": {},
     "output_type": "execute_result"
    }
   ],
   "source": [
    "json.loads(cc_ei.metadata[\"description\"]).keys()"
   ]
  },
  {
   "cell_type": "code",
   "execution_count": 15,
   "id": "28428cda-15c4-4d02-bec4-9c2cb72bd24b",
   "metadata": {},
   "outputs": [
    {
     "name": "stdout",
     "output_type": "stream",
     "text": [
      "Ryberg, M. W.; Owsianiak, M.; Richardson, K.; Hauschild, M. Z.\n"
     ]
    }
   ],
   "source": [
    "print(\"\".join(json.loads(cc_ei.metadata[\"description\"])[\"authors\"]))"
   ]
  },
  {
   "cell_type": "code",
   "execution_count": 16,
   "id": "61e5c49d-02dc-4e60-9590-c72ed50ef399",
   "metadata": {},
   "outputs": [
    {
     "name": "stdout",
     "output_type": "stream",
     "text": [
      "https://doi.org/10.1016/j.ecolind.2017.12.065\n"
     ]
    }
   ],
   "source": [
    "print(\"\".join(json.loads(cc_ei.metadata[\"description\"])[\"doi\"]))"
   ]
  },
  {
   "cell_type": "code",
   "execution_count": 17,
   "id": "9b7edb13-9ed7-4b7d-874a-a5e3c6d24e10",
   "metadata": {},
   "outputs": [
    {
     "name": "stdout",
     "output_type": "stream",
     "text": [
      "v0.8.0\n"
     ]
    }
   ],
   "source": [
    "print(\"\".join(json.loads(cc_ei.metadata[\"description\"])[\"current_version\"]))"
   ]
  },
  {
   "cell_type": "code",
   "execution_count": 14,
   "id": "55722427-1a30-4c99-ab7a-14c3091228b0",
   "metadata": {},
   "outputs": [
    {
     "name": "stdout",
     "output_type": "stream",
     "text": [
      "Tulus, V.\n"
     ]
    }
   ],
   "source": [
    "print(\"\".join(json.loads(cc_ei.metadata[\"description\"])[\"implemented_by\"]))"
   ]
  },
  {
   "cell_type": "code",
   "execution_count": 18,
   "id": "34a2c46f-8134-4218-9077-9133dc23a37f",
   "metadata": {},
   "outputs": [
    {
     "name": "stdout",
     "output_type": "stream",
     "text": [
      "Find changelog here: https://github.com/vtulus/AESAmethods/blob/master/CHANGELOG.md\n"
     ]
    }
   ],
   "source": [
    "print(\"\".join(json.loads(cc_ei.metadata[\"description\"])[\"changelog\"]))"
   ]
  },
  {
   "cell_type": "raw",
   "id": "07dd3ca1-9594-41ce-8e87-0df6529f88f6",
   "metadata": {
    "tags": []
   },
   "source": [
    "HTML(markdown.markdown(\"\".join(json.loads(cc_ei.metadata[\"description\"])[\"changelog\"])))"
   ]
  },
  {
   "cell_type": "code",
   "execution_count": 23,
   "id": "49a54651-3d55-4558-a0b6-659312c602c7",
   "metadata": {},
   "outputs": [],
   "source": [
    "# bw.databases"
   ]
  },
  {
   "cell_type": "code",
   "execution_count": 24,
   "id": "4934177e-0cec-49d0-9851-e1d8bf424d0a",
   "metadata": {},
   "outputs": [],
   "source": [
    "act = [\n",
    "    act\n",
    "    for act in bw.Database(\"ei35_cutoff\")\n",
    "    if \"electricity production, natural gas, combined cycle power plant\" in act[\"name\"]\n",
    "    and 'CN-XJ' in act[\"location\"]\n",
    "][0]"
   ]
  },
  {
   "cell_type": "code",
   "execution_count": 30,
   "id": "56eb0518-8184-4f80-9245-48f980aa6371",
   "metadata": {},
   "outputs": [],
   "source": [
    "# act = bw.Database(\"ecoinvent 3.5\").random()"
   ]
  },
  {
   "cell_type": "code",
   "execution_count": 25,
   "id": "c4cbadb0-9f59-425b-b26e-599aa9bc344d",
   "metadata": {},
   "outputs": [
    {
     "data": {
      "text/plain": [
       "'electricity production, natural gas, combined cycle power plant' (kilowatt hour, CN-XJ, None)"
      ]
     },
     "execution_count": 25,
     "metadata": {},
     "output_type": "execute_result"
    }
   ],
   "source": [
    "act"
   ]
  },
  {
   "cell_type": "code",
   "execution_count": 21,
   "id": "5854c32c-e5e6-4560-b1f7-074d5aa4be39",
   "metadata": {},
   "outputs": [],
   "source": [
    "# PyPardisoError: The Pardiso solver failed with error code -3. See Pardiso documentation for details.\n",
    "# solution: https://stackoverflow.com/questions/70665142/pypardisoerror-the-pardiso-solver-failed-with-error-code-3-see-pardiso-docum"
   ]
  },
  {
   "cell_type": "code",
   "execution_count": 34,
   "id": "247959be-fa96-4ac8-8662-5cf015101032",
   "metadata": {},
   "outputs": [],
   "source": [
    "# lca = bw.LCA(demand={act: 1000}, method=cc_ei.name)\n",
    "# lca.lci()\n",
    "# lca.lcia()\n",
    "# lca.score\n",
    "# lca.method\n",
    "# bd.Method(lca.method).metadata[\"unit\"]\n",
    "# lca.demand"
   ]
  },
  {
   "cell_type": "code",
   "execution_count": 26,
   "id": "76da0cd3-3451-41bb-9abe-addfbcb4df63",
   "metadata": {},
   "outputs": [
    {
     "name": "stdout",
     "output_type": "stream",
     "text": [
      "('AESA (PBs-LCIA)', 'biogeochemical flows', 'nitrogen') 2.4029810407206315e-12 Tg N\n",
      "('AESA (PBs-LCIA)', 'land-system change', 'global') 8.952845449129889e-14 % forested land\n",
      "('AESA (PBs-LCIA)', 'climate change', 'energy imbalance at top-of-atmosphere') 2.3004136821040066e-10 Wm-2\n",
      "('AESA (PBs-LCIA)', 'ocean acidification', 'carbonate ion concentration') 5.324032739401178e-11 omega aragonite\n",
      "('AESA (PBs-LCIA)', 'change in biosphere integrity', 'functional diversity') 7.256630704070737e-12 % BII loss\n",
      "('AESA (PBs-LCIA)', 'climate change', 'atmospheric CO2 concentration') 1.74229650357756e-08 ppm\n",
      "('AESA (PBs-LCIA)', 'biogeochemical flows', 'phosphorus') 4.01601803929892e-15 Tg P\n",
      "('AESA (PBs-LCIA)', 'freshwater use', 'global') 2.4581489989510518e-09 km3\n",
      "('AESA (PBs-LCIA)', 'ozone depletion', 'stratospheric O3 concentration') 2.07276193502035e-12 Dobson unit\n"
     ]
    }
   ],
   "source": [
    "for method in [method for method in bd.methods if \"PB\" in str(method)]:\n",
    "    lca = bw.LCA(demand={act: 1000}, method=method)\n",
    "    lca.lci()\n",
    "    lca.lcia()\n",
    "    print(method, lca.score, bd.Method(lca.method).metadata[\"unit\"])"
   ]
  },
  {
   "cell_type": "raw",
   "id": "9bd49d1c-72ea-4bb3-b56f-be7893b0c9fa",
   "metadata": {},
   "source": [
    "import numpy as np"
   ]
  },
  {
   "cell_type": "raw",
   "id": "a3a00909-956a-4e1e-9676-36d6b9528744",
   "metadata": {},
   "source": [
    "np.isclose(7.256630704070737e-12*1e5, 1.4466237E-10*1e5)"
   ]
  },
  {
   "cell_type": "raw",
   "id": "d084575c-85b1-4fcf-9bf7-7cc6d216a878",
   "metadata": {},
   "source": [
    "np.isclose(2.4581489989510518e-09, 2.415162E-9)"
   ]
  },
  {
   "cell_type": "raw",
   "id": "9b4b89d6-d7c5-4bf7-bbb1-9055fec79fb1",
   "metadata": {},
   "source": [
    "np.isclose(2.07276193502035e-12, 2.0739006E-12)"
   ]
  },
  {
   "cell_type": "raw",
   "id": "41244aeb-8f95-4133-955b-cef84b232818",
   "metadata": {},
   "source": [
    "np.isclose(1.74229650357756e-08, 1.7432862E-8)"
   ]
  },
  {
   "cell_type": "raw",
   "id": "5b71f2d7-7b63-41c4-8ec7-86be23c22cee",
   "metadata": {},
   "source": [
    "np.isclose(2.4029810407206315e-12, 1.5164064E-12)"
   ]
  },
  {
   "cell_type": "raw",
   "id": "4824bdb8-afe2-485e-828d-b762ca3df4c3",
   "metadata": {},
   "source": [
    "\"Change in biosphere integrity - BII loss\"\t\"% BII loss\"\t1.4466237E-10\n",
    "\"Freshwater use - Global\"\t\"km3\"\t2.415162E-9\n",
    "\"Stratospheric ozone depletion\"\t\"DU\"\t2.0739006E-12\n",
    "\"Climate change - CO2 concentration\"\t\"ppm\"\t1.7432862E-8\n",
    "\"Biogeochemical flows - N\"\t\"Tg N\"\t1.5164064E-12\n",
    "\"Ocean acidification\"\t\"Omega Aragon\"\t5.327057E-11\n",
    "\"Land-system change - Global\"\t\"%\"\t8.9556587E-14\n",
    "\"Biogeochemical flows - P\"\t\"Tg P\"\t4.9823559E-15\n",
    "\"Climate change - Energy imbalance\"\t\"Wm-2\"\t2.3017236E-10"
   ]
  }
 ],
 "metadata": {
  "kernelspec": {
   "display_name": "Python (bw2)",
   "language": "python",
   "name": "bw2"
  },
  "language_info": {
   "codemirror_mode": {
    "name": "ipython",
    "version": 3
   },
   "file_extension": ".py",
   "mimetype": "text/x-python",
   "name": "python",
   "nbconvert_exporter": "python",
   "pygments_lexer": "ipython3",
   "version": "3.9.7"
  }
 },
 "nbformat": 4,
 "nbformat_minor": 5
}
