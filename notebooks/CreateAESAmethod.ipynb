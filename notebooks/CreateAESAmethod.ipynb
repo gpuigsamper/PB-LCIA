{
 "cells": [
  {
   "cell_type": "code",
   "execution_count": 1,
   "id": "547e02f9-e2c9-4fc1-8bb6-ea62ebc5c6e9",
   "metadata": {},
   "outputs": [],
   "source": [
    "import json\n",
    "\n",
    "import brightway2 as bw\n",
    "import bw2data as bd\n",
    "import markdown\n",
    "from IPython.display import HTML"
   ]
  },
  {
   "cell_type": "code",
   "execution_count": 2,
   "id": "c6dcdba8-e048-4bea-bd06-9997eca2a618",
   "metadata": {},
   "outputs": [
    {
     "data": {
      "text/plain": [
       "Brightway2 projects manager with 13 objects:\n",
       "\tStepByStep\n",
       "\tbw2_class_2020_example_database\n",
       "\tbw2_class_2020_intro\n",
       "\tcar comparison paper\n",
       "\tcheck_electricity_EES_paper\n",
       "\tcheck_impact_electricity\n",
       "\tdefault\n",
       "\tecoinvent 3.6\n",
       "\tglobal_power_mix\n",
       "\tparameters - manual creation\n",
       "\tpremise_scenarios\n",
       "\tsimapro-ecoinvent-import\n",
       "\ttrial-import_from_SimaPro\n",
       "Use `projects.report()` to get a report on all projects."
      ]
     },
     "execution_count": 2,
     "metadata": {},
     "output_type": "execute_result"
    }
   ],
   "source": [
    "bd.projects"
   ]
  },
  {
   "cell_type": "code",
   "execution_count": 3,
   "id": "270c1244-e1bc-460d-a307-855c7d60fcd3",
   "metadata": {},
   "outputs": [],
   "source": [
    "bd.projects.set_current(\"ecoinvent 3.6\")"
   ]
  },
  {
   "cell_type": "code",
   "execution_count": 4,
   "id": "647e604a-79fd-44cb-8c92-dc0d313d816a",
   "metadata": {},
   "outputs": [
    {
     "data": {
      "text/plain": [
       "Databases dictionary with 3 object(s):\n",
       "\tbiosphere3\n",
       "\tecoinvent 3.5\n",
       "\tecoinvent 3.6"
      ]
     },
     "execution_count": 4,
     "metadata": {},
     "output_type": "execute_result"
    }
   ],
   "source": [
    "bd.databases"
   ]
  },
  {
   "cell_type": "code",
   "execution_count": 5,
   "id": "98184b2e-bd6d-4183-9900-098ea589b9c7",
   "metadata": {},
   "outputs": [],
   "source": [
    "import sys\n",
    "import os\n",
    "\n",
    "module_path = os.path.abspath(os.path.join(\"..\"))\n",
    "# `..` indicate a relative path to `aesa_pbs` directory\n",
    "if module_path not in sys.path:\n",
    "    sys.path.append(module_path)"
   ]
  },
  {
   "cell_type": "code",
   "execution_count": 6,
   "id": "65ec693b-84ee-4c97-848c-5499d12396b1",
   "metadata": {},
   "outputs": [],
   "source": [
    "import aesa_pbs"
   ]
  },
  {
   "cell_type": "code",
   "execution_count": 7,
   "id": "6754aa93-b048-4021-879d-eb2ca4e06153",
   "metadata": {},
   "outputs": [
    {
     "data": {
      "text/plain": [
       "(0, 8, 0)"
      ]
     },
     "execution_count": 7,
     "metadata": {},
     "output_type": "execute_result"
    }
   ],
   "source": [
    "aesa_pbs.__version__"
   ]
  },
  {
   "cell_type": "code",
   "execution_count": 8,
   "id": "3269ac18-3d4c-43cb-a6c5-8299dd818520",
   "metadata": {
    "collapsed": true,
    "jupyter": {
     "outputs_hidden": true
    },
    "tags": []
   },
   "outputs": [
    {
     "name": "stdout",
     "output_type": "stream",
     "text": [
      "Adding ('AESA (PBs-LCIA)', 'freshwater use', 'global')\n",
      "Applying strategy: csv_restore_tuples\n",
      "Applying strategy: csv_numerize\n",
      "Applying strategy: csv_drop_unknown\n",
      "Applying strategy: set_biosphere_type\n",
      "Applying strategy: drop_unspecified_subcategories\n",
      "Applying strategy: link_iterable_by_fields\n",
      "Applying strategy: drop_falsey_uncertainty_fields_but_keep_zeros\n",
      "Applying strategy: convert_uncertainty_types_to_integers\n",
      "Applying strategy: drop_empty_lines\n",
      "Applied 9 strategies in 0.25 seconds\n",
      "Wrote 1 LCIA methods with 12 characterization factors\n",
      "\n",
      "Adding ('AESA (PBs-LCIA)', 'biogeochemical flows', 'phosphorus')\n",
      "Applying strategy: csv_restore_tuples\n",
      "Applying strategy: csv_numerize\n",
      "Applying strategy: csv_drop_unknown\n",
      "Applying strategy: set_biosphere_type\n",
      "Applying strategy: drop_unspecified_subcategories\n",
      "Applying strategy: link_iterable_by_fields\n",
      "Applying strategy: drop_falsey_uncertainty_fields_but_keep_zeros\n",
      "Applying strategy: convert_uncertainty_types_to_integers\n",
      "Applying strategy: drop_empty_lines\n",
      "Applied 9 strategies in 0.17 seconds\n",
      "Wrote 1 LCIA methods with 2 characterization factors\n",
      "\n",
      "Adding ('AESA (PBs-LCIA)', 'land-system change', 'global')\n",
      "Applying strategy: csv_restore_tuples\n",
      "Applying strategy: csv_numerize\n",
      "Applying strategy: csv_drop_unknown\n",
      "Applying strategy: set_biosphere_type\n",
      "Applying strategy: drop_unspecified_subcategories\n",
      "Applying strategy: link_iterable_by_fields\n",
      "Applying strategy: drop_falsey_uncertainty_fields_but_keep_zeros\n",
      "Applying strategy: convert_uncertainty_types_to_integers\n",
      "Applying strategy: drop_empty_lines\n",
      "Applied 9 strategies in 0.18 seconds\n",
      "Wrote 1 LCIA methods with 10 characterization factors\n",
      "\n",
      "Adding ('AESA (PBs-LCIA)', 'change in biosphere integrity', 'functional diversity')\n",
      "Applying strategy: csv_restore_tuples\n",
      "Applying strategy: csv_numerize\n",
      "Applying strategy: csv_drop_unknown\n",
      "Applying strategy: set_biosphere_type\n",
      "Applying strategy: drop_unspecified_subcategories\n",
      "Applying strategy: link_iterable_by_fields\n",
      "Applying strategy: drop_falsey_uncertainty_fields_but_keep_zeros\n",
      "Applying strategy: convert_uncertainty_types_to_integers\n",
      "Applying strategy: drop_empty_lines\n",
      "Applied 9 strategies in 0.19 seconds\n",
      "Wrote 1 LCIA methods with 76 characterization factors\n",
      "\n",
      "Adding ('AESA (PBs-LCIA)', 'biogeochemical flows', 'nitrogen')\n",
      "Applying strategy: csv_restore_tuples\n",
      "Applying strategy: csv_numerize\n",
      "Applying strategy: csv_drop_unknown\n",
      "Applying strategy: set_biosphere_type\n",
      "Applying strategy: drop_unspecified_subcategories\n",
      "Applying strategy: link_iterable_by_fields\n",
      "Applying strategy: drop_falsey_uncertainty_fields_but_keep_zeros\n",
      "Applying strategy: convert_uncertainty_types_to_integers\n",
      "Applying strategy: drop_empty_lines\n",
      "Applied 9 strategies in 0.30 seconds\n",
      "Wrote 1 LCIA methods with 2 characterization factors\n",
      "\n",
      "Adding ('AESA (PBs-LCIA)', 'climate change', 'energy imbalance at top-of-atmosphere')\n",
      "Applying strategy: csv_restore_tuples\n",
      "Applying strategy: csv_numerize\n",
      "Applying strategy: csv_drop_unknown\n",
      "Applying strategy: set_biosphere_type\n",
      "Applying strategy: drop_unspecified_subcategories\n",
      "Applying strategy: link_iterable_by_fields\n",
      "Applying strategy: drop_falsey_uncertainty_fields_but_keep_zeros\n",
      "Applying strategy: convert_uncertainty_types_to_integers\n",
      "Applying strategy: drop_empty_lines\n",
      "Applied 9 strategies in 0.22 seconds\n",
      "Wrote 1 LCIA methods with 98 characterization factors\n",
      "\n",
      "Adding ('AESA (PBs-LCIA)', 'ocean acidification', 'carbonate ion concentration')\n",
      "Applying strategy: csv_restore_tuples\n",
      "Applying strategy: csv_numerize\n",
      "Applying strategy: csv_drop_unknown\n",
      "Applying strategy: set_biosphere_type\n",
      "Applying strategy: drop_unspecified_subcategories\n",
      "Applying strategy: link_iterable_by_fields\n",
      "Applying strategy: drop_falsey_uncertainty_fields_but_keep_zeros\n",
      "Applying strategy: convert_uncertainty_types_to_integers\n",
      "Applying strategy: drop_empty_lines\n",
      "Applied 9 strategies in 0.21 seconds\n",
      "Wrote 1 LCIA methods with 42 characterization factors\n",
      "\n",
      "Adding ('AESA (PBs-LCIA)', 'climate change', 'atmospheric CO2 concentration')\n",
      "Applying strategy: csv_restore_tuples\n",
      "Applying strategy: csv_numerize\n",
      "Applying strategy: csv_drop_unknown\n",
      "Applying strategy: set_biosphere_type\n",
      "Applying strategy: drop_unspecified_subcategories\n",
      "Applying strategy: link_iterable_by_fields\n",
      "Applying strategy: drop_falsey_uncertainty_fields_but_keep_zeros\n",
      "Applying strategy: convert_uncertainty_types_to_integers\n",
      "Applying strategy: drop_empty_lines\n",
      "Applied 9 strategies in 0.28 seconds\n",
      "Wrote 1 LCIA methods with 42 characterization factors\n",
      "\n",
      "Adding ('AESA (PBs-LCIA)', 'ozone depletion', 'stratospheric O3 concentration')\n",
      "Applying strategy: csv_restore_tuples\n",
      "Applying strategy: csv_numerize\n",
      "Applying strategy: csv_drop_unknown\n",
      "Applying strategy: set_biosphere_type\n",
      "Applying strategy: drop_unspecified_subcategories\n",
      "Applying strategy: link_iterable_by_fields\n",
      "Applying strategy: drop_falsey_uncertainty_fields_but_keep_zeros\n",
      "Applying strategy: convert_uncertainty_types_to_integers\n",
      "Applying strategy: drop_empty_lines\n",
      "Applied 9 strategies in 0.21 seconds\n",
      "Wrote 1 LCIA methods with 75 characterization factors\n",
      "\n"
     ]
    }
   ],
   "source": [
    "aesa_pbs.add_aesa_pbs()"
   ]
  },
  {
   "cell_type": "code",
   "execution_count": 5,
   "id": "132ff322-178d-49f1-9132-c4ed0c79cb03",
   "metadata": {},
   "outputs": [],
   "source": [
    "# deleted all PBs related methods from project:\n",
    "\n",
    "# for method in [method for method in bd.methods if \"PB\" in str(method)]:\n",
    "#     del bd.methods[method]\n",
    "\n",
    "# del bd.methods[('AESA', 'trial-CC_CO2concentration')]"
   ]
  },
  {
   "cell_type": "code",
   "execution_count": 9,
   "id": "f2ef0c98-7334-426c-a2fd-db3b23c56a26",
   "metadata": {},
   "outputs": [
    {
     "data": {
      "text/plain": [
       "[('AESA (PBs-LCIA)', 'freshwater use', 'global'),\n",
       " ('AESA (PBs-LCIA)', 'biogeochemical flows', 'phosphorus'),\n",
       " ('AESA (PBs-LCIA)', 'land-system change', 'global'),\n",
       " ('AESA (PBs-LCIA)', 'change in biosphere integrity', 'functional diversity'),\n",
       " ('AESA (PBs-LCIA)', 'biogeochemical flows', 'nitrogen'),\n",
       " ('AESA (PBs-LCIA)',\n",
       "  'climate change',\n",
       "  'energy imbalance at top-of-atmosphere'),\n",
       " ('AESA (PBs-LCIA)', 'ocean acidification', 'carbonate ion concentration'),\n",
       " ('AESA (PBs-LCIA)', 'climate change', 'atmospheric CO2 concentration'),\n",
       " ('AESA (PBs-LCIA)', 'ozone depletion', 'stratospheric O3 concentration')]"
      ]
     },
     "execution_count": 9,
     "metadata": {},
     "output_type": "execute_result"
    }
   ],
   "source": [
    "[method for method in bd.methods if \"PB\" in str(method)]"
   ]
  },
  {
   "cell_type": "code",
   "execution_count": 14,
   "id": "6ff9f43a-b6f8-43c2-bb0c-975a3e557bd7",
   "metadata": {},
   "outputs": [],
   "source": [
    "cc_ei = bd.Method(\n",
    "    (\"AESA (PBs-LCIA)\", \"climate change\", \"atmospheric CO2 concentration\")\n",
    ")"
   ]
  },
  {
   "cell_type": "code",
   "execution_count": 15,
   "id": "bc41ee3c-6125-4d29-9519-af65adbd44be",
   "metadata": {},
   "outputs": [
    {
     "data": {
      "text/plain": [
       "dict_keys(['description', 'filename', 'unit', 'abbreviation', 'num_cfs'])"
      ]
     },
     "execution_count": 15,
     "metadata": {},
     "output_type": "execute_result"
    }
   ],
   "source": [
    "cc_ei.metadata.keys()"
   ]
  },
  {
   "cell_type": "code",
   "execution_count": 18,
   "id": "37345f26-6f61-4388-8b4c-7c7ee1eb7c7a",
   "metadata": {},
   "outputs": [
    {
     "data": {
      "text/plain": [
       "dict_keys(['overview', 'authors', 'doi', 'current_version', 'changelog', 'implemented_by'])"
      ]
     },
     "execution_count": 18,
     "metadata": {},
     "output_type": "execute_result"
    }
   ],
   "source": [
    "json.loads(cc_ei.metadata[\"description\"]).keys()"
   ]
  },
  {
   "cell_type": "code",
   "execution_count": 19,
   "id": "55722427-1a30-4c99-ab7a-14c3091228b0",
   "metadata": {},
   "outputs": [
    {
     "name": "stdout",
     "output_type": "stream",
     "text": [
      "v0.8.0\n"
     ]
    }
   ],
   "source": [
    "print(\"\".join(json.loads(cc_ei.metadata[\"description\"])[\"implemented_by\"]))"
   ]
  },
  {
   "cell_type": "code",
   "execution_count": 28,
   "id": "ed268624-39c2-485c-94fd-85a042f8cd26",
   "metadata": {
    "collapsed": true,
    "jupyter": {
     "outputs_hidden": true
    },
    "tags": []
   },
   "outputs": [
    {
     "data": {
      "text/html": [
       "<h1>Changelog</h1>\n",
       "<p>(NOTE: Changelog for versions &lt; 0.8.0 refers to the implementation of the method in SimaPro)</p>\n",
       "<h2>0.8.0 (2022-03-22)</h2>\n",
       "<p>AESA (PBs-LCIA) method converted to Brightway-readable format.</p>\n",
       "<h2>0.7.2 (2020-09-09)</h2>\n",
       "<p>CFs for CO2 associated with land transformation are modified consistently with the IPCC recommendations and considering the ecoinvent approach, in which pulse CO2 emissions for Land Use Change are already \"amortized\" over the plantation lifetime.</p>\n",
       "<p>The characterization factors for CO2 fossil and CO2, land transformation, are now the same, consistently with other common LCA methodologies.</p>\n",
       "<h3><strong>Climate change - CO2 concentration</strong></h3>\n",
       "<p>CF for \"Carbon dioxide, land transformation\" has been changed from 8.97E-14 to 2.69E-11 (ppm / kg CO2)</p>\n",
       "<h3><strong>Climate change - Energy imbalance</strong></h3>\n",
       "<p>CF for \"Carbon dioxide, land transformation\" has been changed from 1.18E-15 to 3.53E-13 (Wm-2 / kg CO2)</p>\n",
       "<h3><strong>Ocean acidification</strong></h3>\n",
       "<p>CF for \"Carbon dioxide, land transformation\" has been changed from 2.74E-16 to 8.22E-14 (Omega Aragon / kg CO2)</p>\n",
       "<h2>0.7.1 (2020-08-14)</h2>\n",
       "<h3><strong>Damage assessment (% of BII loss)</strong></h3>\n",
       "<p>The following types of land are added (based on <a href=\"https://doi.org/10.1016/j.jclepro.2012.06.016\">Hanafiah et al.</a>):\n",
       "- Occupation, pasture, man made, organic (CF: 0.3)\n",
       "- Occupation, permanent crop, irrigated (CF: 0.9)\n",
       "- Occupation, permanent crop, irrigated, extensive (CF: 0.7)\n",
       "- Occupation, permanent crop, irrigated, intensive (CF: 0.9)\n",
       "- Occupation, permanent crop, non-irrigated (CF: 0.9)\n",
       "- Occupation, permanent crop, non-irrigated, extensive (CF: 0.7)\n",
       "- Occupation, permanent crop, non-irrigated, intensive(CF: 0.9)\n",
       "- Urban, green areas (0.95) . not in ecoinvent\n",
       "- Occupation, annual crop, non-irrigated (CF: 0.9\n",
       "- Occupation, lakes, artificial (CF: 1) . not in ecoinvent\n",
       "- Occupation, forest, used (CF: 0.5) . not in ecoinvent\n",
       "- Occupation, agriculture (CF: 0.9) . not in ecoinvent\n",
       "- Occupation, annual crop, greenhouse (CF: 0.9) </p>\n",
       "<blockquote>\n",
       "<p>Note: <em>land types and characterization factors added in \"(not PBs) Biological footprint, LU</em><em>\" (BIILoss.m2a)</em></p>\n",
       "</blockquote>\n",
       "<h2>0.7.0 (2020-07-21)</h2>\n",
       "<p>Updates from v0.6.5</p>\n",
       "<h3><strong>Biogeochemical flows - P</strong></h3>\n",
       "<p>The following elementary flows are now taken into account:\n",
       "- Phosphate, (CF = 2.81E-10) \n",
       "- Poshosphorous, total, (8.61E-10)\n",
       "- Poshosphorous,  (8.61E-10)</p>\n",
       "<blockquote>\n",
       "<p>Emission to Lake and River are now considered.<br />\n",
       "In the v0.65 only Phosphorous,  (8.61E-10) to Lake was considered.</p>\n",
       "</blockquote>\n",
       "<h3><strong>Biogeochemical flows - N</strong></h3>\n",
       "<p>The following elementary flows are now taken into account:\n",
       "- Nitrate, (CF = 5.51E-9)\n",
       "- Nitrogen, (CF = 2.44E-8)\n",
       "- Nitrogen, total, (CF = 2.44E-8)</p>\n",
       "<blockquote>\n",
       "<p>Emission to Lake and River are now considered.<br />\n",
       "In v0.65 only Nitrate,  (5.51E-9) to Lake/River was considered.</p>\n",
       "</blockquote>\n",
       "<h3><strong>Damage assessment (% of BII loss)</strong></h3>\n",
       "<p><code>At</code> updated from 1.08E+14 to 1.30E+14 m2  </p>\n",
       "<blockquote>\n",
       "<p>In this version the total area is consistent with <a href=\"https://models.pbl.nl/image/index.php/Download_packages\">IMAGE model</a><br />\n",
       "In 0.65 the EarthвЂ™s total Area considered was 1.08E+14 m2, according to ReCiPe2016.</p>\n",
       "</blockquote>\n",
       "<p>Mean Species Abundance (MSA) is used as a proxy of Biological Intactness Index (BII)</p>\n",
       "<blockquote>\n",
       "<p><em>\"The main difference between MSA and BII is that every hectare is given equal weight in MSA, whereas BII gives more weight to species rich areas.\"</em><br />\n",
       "-<a href=\"https://doi.org/10.1007/s10021-009-9229-5\">Alkemade et al. 2009</a></p>\n",
       "</blockquote>\n",
       "<p><code>GWP</code> (kg CO2 eq): Global Warming Potential (calculated using \"ReCiPe 2016 (H) midpoint\" characterization factors)<br />\n",
       "<code>BF_LU</code> (BII loss<em>m2a): Biological footprint for Land Use<br />\n",
       "<code>BF_CC</code> (BII loss</em>m2a): Biological footprint for Climate Change<br />\n",
       "<code>At</code> (m2a): EarthвЂ™s total land (used in 1 yr) = 1.30E+14 <br />\n",
       "<code>MSA</code>: Mean species abundance</p>\n",
       "<blockquote>\n",
       "<p>(0: no species; 1: undisturbed biodiversity)  </p>\n",
       "</blockquote>\n",
       "<p><code>(1-MSA)</code>: Loss of mean species abundance</p>\n",
       "<blockquote>\n",
       "<p>(0: no loss of species; 1: complete loss of species)  </p>\n",
       "</blockquote>\n",
       "<p><a href=\"https://doi.org/10.1016/j.jclepro.2012.06.016\">Hanafiah et al.</a> provide <code>(1-MSA)</code> values for different land types present in SimaPro. These values are used as the characterization factors to assess \"Biological footprint, LU\". <code>(1-MSA)</code> values are applied to land use inventory flows (m2a).</p>\n",
       "<p><code>BF_LU</code> is calculated as <code>SUM[Ai*(1-MSAi)]</code> for \"i-th\" land use type.</p>\n",
       "<p>According to <a href=\"https://doi.org/10.1016/j.jclepro.2012.06.016\">Hanafiah et al.</a>, <code>BF_CC</code> can be calculated as <code>BF_CC = 0.27 * GWP</code></p>\n",
       "<p>\"In damage assessment\" <code>BII loss</code> is finally calculated as <code>% BII loss = 100 x (BF_LU+BF_CC)/At</code></p>\n",
       "<p>The factor applied to <code>GWP</code> is calculated as <code>100 x (0.27/At) = 2.07692E-13</code><br />\n",
       "The factor applied to <code>BF_LU</code> is calculated as <code>100 x (1/At) = 7.69231E-13</code></p>\n",
       "<blockquote>\n",
       "<p>NOTE: <strong>Indicators with the prefix \"(not PBs)\" are used exclusively for the damage assessment, where the final indicator is provided.</strong></p>\n",
       "</blockquote>\n",
       "<h3><strong>N-flows to freshwater considers lake and river sub-compartments</strong></h3>\n",
       "<h3><strong>Alternative approaches to address PBs, Biodiversity and Nitrogen Flow</strong></h3>\n",
       "<p>Are available in the supplementary methods of SUPERLAB project</p>"
      ],
      "text/plain": [
       "<IPython.core.display.HTML object>"
      ]
     },
     "execution_count": 28,
     "metadata": {},
     "output_type": "execute_result"
    }
   ],
   "source": [
    "HTML(markdown.markdown(\"\".join(json.loads(cc_ei.metadata[\"description\"])[\"changelog\"])))"
   ]
  },
  {
   "cell_type": "code",
   "execution_count": 29,
   "id": "49a54651-3d55-4558-a0b6-659312c602c7",
   "metadata": {},
   "outputs": [
    {
     "data": {
      "text/plain": [
       "Databases dictionary with 3 object(s):\n",
       "\tbiosphere3\n",
       "\tecoinvent 3.5\n",
       "\tecoinvent 3.6"
      ]
     },
     "execution_count": 29,
     "metadata": {},
     "output_type": "execute_result"
    }
   ],
   "source": [
    "bw.databases"
   ]
  },
  {
   "cell_type": "code",
   "execution_count": 30,
   "id": "4934177e-0cec-49d0-9851-e1d8bf424d0a",
   "metadata": {},
   "outputs": [],
   "source": [
    "act = [\n",
    "    act\n",
    "    for act in bw.Database(\"ecoinvent 3.5\")\n",
    "    if \"electricity production, natural gas, combined cycle power plant\" in act[\"name\"]\n",
    "    and 'CN-XJ' in act[\"location\"]\n",
    "][0]"
   ]
  },
  {
   "cell_type": "code",
   "execution_count": 30,
   "id": "56eb0518-8184-4f80-9245-48f980aa6371",
   "metadata": {},
   "outputs": [],
   "source": [
    "# act = bw.Database(\"ecoinvent 3.5\").random()"
   ]
  },
  {
   "cell_type": "code",
   "execution_count": 31,
   "id": "c4cbadb0-9f59-425b-b26e-599aa9bc344d",
   "metadata": {},
   "outputs": [
    {
     "data": {
      "text/plain": [
       "'electricity production, natural gas, combined cycle power plant' (kilowatt hour, CN-XJ, None)"
      ]
     },
     "execution_count": 31,
     "metadata": {},
     "output_type": "execute_result"
    }
   ],
   "source": [
    "act"
   ]
  },
  {
   "cell_type": "code",
   "execution_count": 21,
   "id": "5854c32c-e5e6-4560-b1f7-074d5aa4be39",
   "metadata": {},
   "outputs": [],
   "source": [
    "# PyPardisoError: The Pardiso solver failed with error code -3. See Pardiso documentation for details.\n",
    "# solution: https://stackoverflow.com/questions/70665142/pypardisoerror-the-pardiso-solver-failed-with-error-code-3-see-pardiso-docum"
   ]
  },
  {
   "cell_type": "code",
   "execution_count": 34,
   "id": "247959be-fa96-4ac8-8662-5cf015101032",
   "metadata": {},
   "outputs": [],
   "source": [
    "# lca = bw.LCA(demand={act: 1000}, method=cc_ei.name)\n",
    "# lca.lci()\n",
    "# lca.lcia()\n",
    "# lca.score\n",
    "# lca.method\n",
    "# bd.Method(lca.method).metadata[\"unit\"]\n",
    "# lca.demand"
   ]
  },
  {
   "cell_type": "code",
   "execution_count": 32,
   "id": "76da0cd3-3451-41bb-9abe-addfbcb4df63",
   "metadata": {},
   "outputs": [
    {
     "name": "stdout",
     "output_type": "stream",
     "text": [
      "('AESA (PBs-LCIA)', 'climate change', 'atmospheric CO2 concentration') 1.74229650357756e-08 ppm\n",
      "('AESA (PBs-LCIA)', 'freshwater use', 'global') 2.4581489989510518e-09 km3\n",
      "('AESA (PBs-LCIA)', 'change in biosphere integrity', 'functional diversity') 7.256630704070737e-12 % BII loss\n",
      "('AESA (PBs-LCIA)', 'ocean acidification', 'carbonate ion concentration') 5.324032739401178e-11 omega aragonite\n",
      "('AESA (PBs-LCIA)', 'climate change', 'energy imbalance at top-of-atmosphere') 2.3004136821040066e-10 Wm-2\n",
      "('AESA (PBs-LCIA)', 'biogeochemical flows', 'nitrogen') 2.4029810407206315e-12 Tg N\n",
      "('AESA (PBs-LCIA)', 'land-system change', 'global') 8.952845449129889e-14 % forested land\n",
      "('AESA (PBs-LCIA)', 'ozone depletion', 'stratospheric O3 concentration') 2.07276193502035e-12 Dobson unit\n",
      "('AESA (PBs-LCIA)', 'biogeochemical flows', 'phosphorus') 4.01601803929892e-15 Tg P\n"
     ]
    }
   ],
   "source": [
    "for method in [method for method in bd.methods if \"PB\" in str(method)]:\n",
    "    lca = bw.LCA(demand={act: 1000}, method=method)\n",
    "    lca.lci()\n",
    "    lca.lcia()\n",
    "    print(method, lca.score, bd.Method(lca.method).metadata[\"unit\"])"
   ]
  },
  {
   "cell_type": "code",
   "execution_count": 33,
   "id": "9fe8fd0c-cb6e-4596-9171-c46b94e38d3a",
   "metadata": {},
   "outputs": [],
   "source": [
    "import numpy as np"
   ]
  },
  {
   "cell_type": "code",
   "execution_count": 34,
   "id": "154edd88-3e98-4baa-841a-dd48fb336998",
   "metadata": {},
   "outputs": [
    {
     "data": {
      "text/plain": [
       "False"
      ]
     },
     "execution_count": 34,
     "metadata": {},
     "output_type": "execute_result"
    }
   ],
   "source": [
    "np.isclose(7.256630704070737e-12*1e5, 1.4466237E-10*1e5)"
   ]
  },
  {
   "cell_type": "code",
   "execution_count": 35,
   "id": "e8320eaf-c47d-4f4c-9cd9-0715ac8a0b34",
   "metadata": {},
   "outputs": [
    {
     "data": {
      "text/plain": [
       "True"
      ]
     },
     "execution_count": 35,
     "metadata": {},
     "output_type": "execute_result"
    }
   ],
   "source": [
    "np.isclose(2.4581489989510518e-09, 2.415162E-9)"
   ]
  },
  {
   "cell_type": "code",
   "execution_count": 36,
   "id": "963e050e-d980-4b1b-b4a9-3cdbda5eec9d",
   "metadata": {},
   "outputs": [
    {
     "data": {
      "text/plain": [
       "True"
      ]
     },
     "execution_count": 36,
     "metadata": {},
     "output_type": "execute_result"
    }
   ],
   "source": [
    "np.isclose(2.07276193502035e-12, 2.0739006E-12)"
   ]
  },
  {
   "cell_type": "code",
   "execution_count": 37,
   "id": "d73730fc-1911-49b7-a7bb-9944eebf426e",
   "metadata": {},
   "outputs": [
    {
     "data": {
      "text/plain": [
       "True"
      ]
     },
     "execution_count": 37,
     "metadata": {},
     "output_type": "execute_result"
    }
   ],
   "source": [
    "np.isclose(1.74229650357756e-08, 1.7432862E-8)"
   ]
  },
  {
   "cell_type": "code",
   "execution_count": 38,
   "id": "d7105c16-24c9-4c94-87af-e6fd49f900fb",
   "metadata": {},
   "outputs": [
    {
     "data": {
      "text/plain": [
       "True"
      ]
     },
     "execution_count": 38,
     "metadata": {},
     "output_type": "execute_result"
    }
   ],
   "source": [
    "np.isclose(2.4029810407206315e-12, 1.5164064E-12)"
   ]
  },
  {
   "cell_type": "raw",
   "id": "4824bdb8-afe2-485e-828d-b762ca3df4c3",
   "metadata": {},
   "source": [
    "\"Change in biosphere integrity - BII loss\"\t\"% BII loss\"\t1.4466237E-10\n",
    "\"Freshwater use - Global\"\t\"km3\"\t2.415162E-9\n",
    "\"Stratospheric ozone depletion\"\t\"DU\"\t2.0739006E-12\n",
    "\"Climate change - CO2 concentration\"\t\"ppm\"\t1.7432862E-8\n",
    "\"Biogeochemical flows - N\"\t\"Tg N\"\t1.5164064E-12\n",
    "\"Ocean acidification\"\t\"Omega Aragon\"\t5.327057E-11\n",
    "\"Land-system change - Global\"\t\"%\"\t8.9556587E-14\n",
    "\"Biogeochemical flows - P\"\t\"Tg P\"\t4.9823559E-15\n",
    "\"Climate change - Energy imbalance\"\t\"Wm-2\"\t2.3017236E-10"
   ]
  }
 ],
 "metadata": {
  "kernelspec": {
   "display_name": "Python (bw2)",
   "language": "python",
   "name": "bw2"
  },
  "language_info": {
   "codemirror_mode": {
    "name": "ipython",
    "version": 3
   },
   "file_extension": ".py",
   "mimetype": "text/x-python",
   "name": "python",
   "nbconvert_exporter": "python",
   "pygments_lexer": "ipython3",
   "version": "3.9.7"
  }
 },
 "nbformat": 4,
 "nbformat_minor": 5
}
